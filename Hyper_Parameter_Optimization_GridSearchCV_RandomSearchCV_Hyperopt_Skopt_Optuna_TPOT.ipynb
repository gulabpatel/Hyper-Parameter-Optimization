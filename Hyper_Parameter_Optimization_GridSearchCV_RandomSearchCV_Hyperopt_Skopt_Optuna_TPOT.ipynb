{
  "nbformat": 4,
  "nbformat_minor": 0,
  "metadata": {
    "kernelspec": {
      "display_name": "Python 3",
      "language": "python",
      "name": "python3"
    },
    "language_info": {
      "codemirror_mode": {
        "name": "ipython",
        "version": 3
      },
      "file_extension": ".py",
      "mimetype": "text/x-python",
      "name": "python",
      "nbconvert_exporter": "python",
      "pygments_lexer": "ipython3",
      "version": "3.7.7"
    },
    "colab": {
      "name": "Hyper Parameter Optimization.ipynb",
      "provenance": [],
      "collapsed_sections": []
    },
    "widgets": {
      "application/vnd.jupyter.widget-state+json": {
        "7415084771054836b453941095ea607c": {
          "model_module": "@jupyter-widgets/controls",
          "model_name": "HBoxModel",
          "state": {
            "_view_name": "HBoxView",
            "_dom_classes": [],
            "_model_name": "HBoxModel",
            "_view_module": "@jupyter-widgets/controls",
            "_model_module_version": "1.5.0",
            "_view_count": null,
            "_view_module_version": "1.5.0",
            "box_style": "",
            "layout": "IPY_MODEL_d5b684cb7157418badc495d05a93f6f3",
            "_model_module": "@jupyter-widgets/controls",
            "children": [
              "IPY_MODEL_21f9f0742df04d089d6a7edefd23d3f4",
              "IPY_MODEL_59ad4e03cec74dd5970041fe12ad699b"
            ]
          }
        },
        "d5b684cb7157418badc495d05a93f6f3": {
          "model_module": "@jupyter-widgets/base",
          "model_name": "LayoutModel",
          "state": {
            "_view_name": "LayoutView",
            "grid_template_rows": null,
            "right": null,
            "justify_content": null,
            "_view_module": "@jupyter-widgets/base",
            "overflow": null,
            "_model_module_version": "1.2.0",
            "_view_count": null,
            "flex_flow": null,
            "width": null,
            "min_width": null,
            "border": null,
            "align_items": null,
            "bottom": null,
            "_model_module": "@jupyter-widgets/base",
            "top": null,
            "grid_column": null,
            "overflow_y": null,
            "overflow_x": null,
            "grid_auto_flow": null,
            "grid_area": null,
            "grid_template_columns": null,
            "flex": null,
            "_model_name": "LayoutModel",
            "justify_items": null,
            "grid_row": null,
            "max_height": null,
            "align_content": null,
            "visibility": null,
            "align_self": null,
            "height": null,
            "min_height": null,
            "padding": null,
            "grid_auto_rows": null,
            "grid_gap": null,
            "max_width": null,
            "order": null,
            "_view_module_version": "1.2.0",
            "grid_template_areas": null,
            "object_position": null,
            "object_fit": null,
            "grid_auto_columns": null,
            "margin": null,
            "display": null,
            "left": null
          }
        },
        "21f9f0742df04d089d6a7edefd23d3f4": {
          "model_module": "@jupyter-widgets/controls",
          "model_name": "FloatProgressModel",
          "state": {
            "_view_name": "ProgressView",
            "style": "IPY_MODEL_740870c0a61d4ec48eaf685e9392882e",
            "_dom_classes": [],
            "description": "Optimization Progress: 100%",
            "_model_name": "FloatProgressModel",
            "bar_style": "",
            "max": 84,
            "_view_module": "@jupyter-widgets/controls",
            "_model_module_version": "1.5.0",
            "value": 84,
            "_view_count": null,
            "_view_module_version": "1.5.0",
            "orientation": "horizontal",
            "min": 0,
            "description_tooltip": null,
            "_model_module": "@jupyter-widgets/controls",
            "layout": "IPY_MODEL_c20552dbff864d229664e403d030aafe"
          }
        },
        "59ad4e03cec74dd5970041fe12ad699b": {
          "model_module": "@jupyter-widgets/controls",
          "model_name": "HTMLModel",
          "state": {
            "_view_name": "HTMLView",
            "style": "IPY_MODEL_602ef17cff9b481db858e796f9473f3a",
            "_dom_classes": [],
            "description": "",
            "_model_name": "HTMLModel",
            "placeholder": "​",
            "_view_module": "@jupyter-widgets/controls",
            "_model_module_version": "1.5.0",
            "value": " 84/84 [18:18&lt;00:00, 12.95s/pipeline]",
            "_view_count": null,
            "_view_module_version": "1.5.0",
            "description_tooltip": null,
            "_model_module": "@jupyter-widgets/controls",
            "layout": "IPY_MODEL_7db763f8deef4733a5d6ceee98b3deba"
          }
        },
        "740870c0a61d4ec48eaf685e9392882e": {
          "model_module": "@jupyter-widgets/controls",
          "model_name": "ProgressStyleModel",
          "state": {
            "_view_name": "StyleView",
            "_model_name": "ProgressStyleModel",
            "description_width": "initial",
            "_view_module": "@jupyter-widgets/base",
            "_model_module_version": "1.5.0",
            "_view_count": null,
            "_view_module_version": "1.2.0",
            "bar_color": null,
            "_model_module": "@jupyter-widgets/controls"
          }
        },
        "c20552dbff864d229664e403d030aafe": {
          "model_module": "@jupyter-widgets/base",
          "model_name": "LayoutModel",
          "state": {
            "_view_name": "LayoutView",
            "grid_template_rows": null,
            "right": null,
            "justify_content": null,
            "_view_module": "@jupyter-widgets/base",
            "overflow": null,
            "_model_module_version": "1.2.0",
            "_view_count": null,
            "flex_flow": null,
            "width": null,
            "min_width": null,
            "border": null,
            "align_items": null,
            "bottom": null,
            "_model_module": "@jupyter-widgets/base",
            "top": null,
            "grid_column": null,
            "overflow_y": null,
            "overflow_x": null,
            "grid_auto_flow": null,
            "grid_area": null,
            "grid_template_columns": null,
            "flex": null,
            "_model_name": "LayoutModel",
            "justify_items": null,
            "grid_row": null,
            "max_height": null,
            "align_content": null,
            "visibility": null,
            "align_self": null,
            "height": null,
            "min_height": null,
            "padding": null,
            "grid_auto_rows": null,
            "grid_gap": null,
            "max_width": null,
            "order": null,
            "_view_module_version": "1.2.0",
            "grid_template_areas": null,
            "object_position": null,
            "object_fit": null,
            "grid_auto_columns": null,
            "margin": null,
            "display": null,
            "left": null
          }
        },
        "602ef17cff9b481db858e796f9473f3a": {
          "model_module": "@jupyter-widgets/controls",
          "model_name": "DescriptionStyleModel",
          "state": {
            "_view_name": "StyleView",
            "_model_name": "DescriptionStyleModel",
            "description_width": "",
            "_view_module": "@jupyter-widgets/base",
            "_model_module_version": "1.5.0",
            "_view_count": null,
            "_view_module_version": "1.2.0",
            "_model_module": "@jupyter-widgets/controls"
          }
        },
        "7db763f8deef4733a5d6ceee98b3deba": {
          "model_module": "@jupyter-widgets/base",
          "model_name": "LayoutModel",
          "state": {
            "_view_name": "LayoutView",
            "grid_template_rows": null,
            "right": null,
            "justify_content": null,
            "_view_module": "@jupyter-widgets/base",
            "overflow": null,
            "_model_module_version": "1.2.0",
            "_view_count": null,
            "flex_flow": null,
            "width": null,
            "min_width": null,
            "border": null,
            "align_items": null,
            "bottom": null,
            "_model_module": "@jupyter-widgets/base",
            "top": null,
            "grid_column": null,
            "overflow_y": null,
            "overflow_x": null,
            "grid_auto_flow": null,
            "grid_area": null,
            "grid_template_columns": null,
            "flex": null,
            "_model_name": "LayoutModel",
            "justify_items": null,
            "grid_row": null,
            "max_height": null,
            "align_content": null,
            "visibility": null,
            "align_self": null,
            "height": null,
            "min_height": null,
            "padding": null,
            "grid_auto_rows": null,
            "grid_gap": null,
            "max_width": null,
            "order": null,
            "_view_module_version": "1.2.0",
            "grid_template_areas": null,
            "object_position": null,
            "object_fit": null,
            "grid_auto_columns": null,
            "margin": null,
            "display": null,
            "left": null
          }
        }
      }
    }
  },
  "cells": [
    {
      "cell_type": "markdown",
      "metadata": {
        "id": "CKizBWxjs4kN"
      },
      "source": [
        "### All Techniques Of Hyper Parameter Optimization\n",
        "\n",
        "1. GridSearchCV\n",
        "2. RandomizedSearchCV\n",
        "3. Bayesian Optimization -Automate Hyperparameter Tuning (Hyperopt)\n",
        "4. Sequential Model Based Optimization(Tuning a scikit-learn estimator with skopt)\n",
        "4. Optuna- Automate Hyperparameter Tuning\n",
        "5. Genetic Algorithms (TPOT Classifier)\n",
        "\n",
        "###### References\n",
        "- https://github.com/fmfn/BayesianOptimization\n",
        "- https://github.com/hyperopt/hyperopt\n",
        "- https://www.jeremyjordan.me/hyperparameter-tuning/\n",
        "- https://optuna.org/\n",
        "- https://towardsdatascience.com/hyperparameters-optimization-526348bb8e2d(By Pier Paolo Ippolito )\n",
        "- https://scikit-optimize.github.io/stable/auto_examples/hyperparameter-optimization.html\n"
      ]
    },
    {
      "cell_type": "code",
      "metadata": {
        "id": "2MDzzoxLs4kQ"
      },
      "source": [
        "import warnings\n",
        "warnings.filterwarnings('ignore')"
      ],
      "execution_count": 1,
      "outputs": []
    },
    {
      "cell_type": "code",
      "metadata": {
        "id": "N2fV-8sGs4kc",
        "outputId": "f1a605dd-f720-4dca-f258-3e48b3a1f4d1",
        "colab": {
          "base_uri": "https://localhost:8080/",
          "height": 224
        }
      },
      "source": [
        "import pandas as pd\n",
        "df=pd.read_csv('diabetes.csv')\n",
        "df.head()"
      ],
      "execution_count": 2,
      "outputs": [
        {
          "output_type": "execute_result",
          "data": {
            "text/html": [
              "<div>\n",
              "<style scoped>\n",
              "    .dataframe tbody tr th:only-of-type {\n",
              "        vertical-align: middle;\n",
              "    }\n",
              "\n",
              "    .dataframe tbody tr th {\n",
              "        vertical-align: top;\n",
              "    }\n",
              "\n",
              "    .dataframe thead th {\n",
              "        text-align: right;\n",
              "    }\n",
              "</style>\n",
              "<table border=\"1\" class=\"dataframe\">\n",
              "  <thead>\n",
              "    <tr style=\"text-align: right;\">\n",
              "      <th></th>\n",
              "      <th>Pregnancies</th>\n",
              "      <th>Glucose</th>\n",
              "      <th>BloodPressure</th>\n",
              "      <th>SkinThickness</th>\n",
              "      <th>Insulin</th>\n",
              "      <th>BMI</th>\n",
              "      <th>DiabetesPedigreeFunction</th>\n",
              "      <th>Age</th>\n",
              "      <th>Outcome</th>\n",
              "    </tr>\n",
              "  </thead>\n",
              "  <tbody>\n",
              "    <tr>\n",
              "      <th>0</th>\n",
              "      <td>6</td>\n",
              "      <td>148</td>\n",
              "      <td>72</td>\n",
              "      <td>35</td>\n",
              "      <td>0</td>\n",
              "      <td>33.6</td>\n",
              "      <td>0.627</td>\n",
              "      <td>50</td>\n",
              "      <td>1</td>\n",
              "    </tr>\n",
              "    <tr>\n",
              "      <th>1</th>\n",
              "      <td>1</td>\n",
              "      <td>85</td>\n",
              "      <td>66</td>\n",
              "      <td>29</td>\n",
              "      <td>0</td>\n",
              "      <td>26.6</td>\n",
              "      <td>0.351</td>\n",
              "      <td>31</td>\n",
              "      <td>0</td>\n",
              "    </tr>\n",
              "    <tr>\n",
              "      <th>2</th>\n",
              "      <td>8</td>\n",
              "      <td>183</td>\n",
              "      <td>64</td>\n",
              "      <td>0</td>\n",
              "      <td>0</td>\n",
              "      <td>23.3</td>\n",
              "      <td>0.672</td>\n",
              "      <td>32</td>\n",
              "      <td>1</td>\n",
              "    </tr>\n",
              "    <tr>\n",
              "      <th>3</th>\n",
              "      <td>1</td>\n",
              "      <td>89</td>\n",
              "      <td>66</td>\n",
              "      <td>23</td>\n",
              "      <td>94</td>\n",
              "      <td>28.1</td>\n",
              "      <td>0.167</td>\n",
              "      <td>21</td>\n",
              "      <td>0</td>\n",
              "    </tr>\n",
              "    <tr>\n",
              "      <th>4</th>\n",
              "      <td>0</td>\n",
              "      <td>137</td>\n",
              "      <td>40</td>\n",
              "      <td>35</td>\n",
              "      <td>168</td>\n",
              "      <td>43.1</td>\n",
              "      <td>2.288</td>\n",
              "      <td>33</td>\n",
              "      <td>1</td>\n",
              "    </tr>\n",
              "  </tbody>\n",
              "</table>\n",
              "</div>"
            ],
            "text/plain": [
              "   Pregnancies  Glucose  BloodPressure  ...  DiabetesPedigreeFunction  Age  Outcome\n",
              "0            6      148             72  ...                     0.627   50        1\n",
              "1            1       85             66  ...                     0.351   31        0\n",
              "2            8      183             64  ...                     0.672   32        1\n",
              "3            1       89             66  ...                     0.167   21        0\n",
              "4            0      137             40  ...                     2.288   33        1\n",
              "\n",
              "[5 rows x 9 columns]"
            ]
          },
          "metadata": {
            "tags": []
          },
          "execution_count": 2
        }
      ]
    },
    {
      "cell_type": "code",
      "metadata": {
        "id": "jN_sHfBss4kn",
        "outputId": "2cc7139e-17fb-47b2-adf8-4c9930246e3c",
        "colab": {
          "base_uri": "https://localhost:8080/",
          "height": 224
        }
      },
      "source": [
        "import numpy as np\n",
        "df['Glucose']=np.where(df['Glucose']==0,df['Glucose'].median(),df['Glucose'])\n",
        "df.head()"
      ],
      "execution_count": 3,
      "outputs": [
        {
          "output_type": "execute_result",
          "data": {
            "text/html": [
              "<div>\n",
              "<style scoped>\n",
              "    .dataframe tbody tr th:only-of-type {\n",
              "        vertical-align: middle;\n",
              "    }\n",
              "\n",
              "    .dataframe tbody tr th {\n",
              "        vertical-align: top;\n",
              "    }\n",
              "\n",
              "    .dataframe thead th {\n",
              "        text-align: right;\n",
              "    }\n",
              "</style>\n",
              "<table border=\"1\" class=\"dataframe\">\n",
              "  <thead>\n",
              "    <tr style=\"text-align: right;\">\n",
              "      <th></th>\n",
              "      <th>Pregnancies</th>\n",
              "      <th>Glucose</th>\n",
              "      <th>BloodPressure</th>\n",
              "      <th>SkinThickness</th>\n",
              "      <th>Insulin</th>\n",
              "      <th>BMI</th>\n",
              "      <th>DiabetesPedigreeFunction</th>\n",
              "      <th>Age</th>\n",
              "      <th>Outcome</th>\n",
              "    </tr>\n",
              "  </thead>\n",
              "  <tbody>\n",
              "    <tr>\n",
              "      <th>0</th>\n",
              "      <td>6</td>\n",
              "      <td>148.0</td>\n",
              "      <td>72</td>\n",
              "      <td>35</td>\n",
              "      <td>0</td>\n",
              "      <td>33.6</td>\n",
              "      <td>0.627</td>\n",
              "      <td>50</td>\n",
              "      <td>1</td>\n",
              "    </tr>\n",
              "    <tr>\n",
              "      <th>1</th>\n",
              "      <td>1</td>\n",
              "      <td>85.0</td>\n",
              "      <td>66</td>\n",
              "      <td>29</td>\n",
              "      <td>0</td>\n",
              "      <td>26.6</td>\n",
              "      <td>0.351</td>\n",
              "      <td>31</td>\n",
              "      <td>0</td>\n",
              "    </tr>\n",
              "    <tr>\n",
              "      <th>2</th>\n",
              "      <td>8</td>\n",
              "      <td>183.0</td>\n",
              "      <td>64</td>\n",
              "      <td>0</td>\n",
              "      <td>0</td>\n",
              "      <td>23.3</td>\n",
              "      <td>0.672</td>\n",
              "      <td>32</td>\n",
              "      <td>1</td>\n",
              "    </tr>\n",
              "    <tr>\n",
              "      <th>3</th>\n",
              "      <td>1</td>\n",
              "      <td>89.0</td>\n",
              "      <td>66</td>\n",
              "      <td>23</td>\n",
              "      <td>94</td>\n",
              "      <td>28.1</td>\n",
              "      <td>0.167</td>\n",
              "      <td>21</td>\n",
              "      <td>0</td>\n",
              "    </tr>\n",
              "    <tr>\n",
              "      <th>4</th>\n",
              "      <td>0</td>\n",
              "      <td>137.0</td>\n",
              "      <td>40</td>\n",
              "      <td>35</td>\n",
              "      <td>168</td>\n",
              "      <td>43.1</td>\n",
              "      <td>2.288</td>\n",
              "      <td>33</td>\n",
              "      <td>1</td>\n",
              "    </tr>\n",
              "  </tbody>\n",
              "</table>\n",
              "</div>"
            ],
            "text/plain": [
              "   Pregnancies  Glucose  BloodPressure  ...  DiabetesPedigreeFunction  Age  Outcome\n",
              "0            6    148.0             72  ...                     0.627   50        1\n",
              "1            1     85.0             66  ...                     0.351   31        0\n",
              "2            8    183.0             64  ...                     0.672   32        1\n",
              "3            1     89.0             66  ...                     0.167   21        0\n",
              "4            0    137.0             40  ...                     2.288   33        1\n",
              "\n",
              "[5 rows x 9 columns]"
            ]
          },
          "metadata": {
            "tags": []
          },
          "execution_count": 3
        }
      ]
    },
    {
      "cell_type": "code",
      "metadata": {
        "id": "16vg5TNhs4ky"
      },
      "source": [
        "#### Independent And Dependent features\n",
        "X=df.drop('Outcome',axis=1)\n",
        "y=df['Outcome']"
      ],
      "execution_count": 4,
      "outputs": []
    },
    {
      "cell_type": "code",
      "metadata": {
        "id": "qjaQURuEs4lF",
        "outputId": "067b79bd-8ec7-40df-ae66-e072191b19ba",
        "colab": {
          "base_uri": "https://localhost:8080/",
          "height": 439
        }
      },
      "source": [
        "pd.DataFrame(X,columns=df.columns[:-1])"
      ],
      "execution_count": 5,
      "outputs": [
        {
          "output_type": "execute_result",
          "data": {
            "text/html": [
              "<div>\n",
              "<style scoped>\n",
              "    .dataframe tbody tr th:only-of-type {\n",
              "        vertical-align: middle;\n",
              "    }\n",
              "\n",
              "    .dataframe tbody tr th {\n",
              "        vertical-align: top;\n",
              "    }\n",
              "\n",
              "    .dataframe thead th {\n",
              "        text-align: right;\n",
              "    }\n",
              "</style>\n",
              "<table border=\"1\" class=\"dataframe\">\n",
              "  <thead>\n",
              "    <tr style=\"text-align: right;\">\n",
              "      <th></th>\n",
              "      <th>Pregnancies</th>\n",
              "      <th>Glucose</th>\n",
              "      <th>BloodPressure</th>\n",
              "      <th>SkinThickness</th>\n",
              "      <th>Insulin</th>\n",
              "      <th>BMI</th>\n",
              "      <th>DiabetesPedigreeFunction</th>\n",
              "      <th>Age</th>\n",
              "    </tr>\n",
              "  </thead>\n",
              "  <tbody>\n",
              "    <tr>\n",
              "      <th>0</th>\n",
              "      <td>6</td>\n",
              "      <td>148.0</td>\n",
              "      <td>72</td>\n",
              "      <td>35</td>\n",
              "      <td>0</td>\n",
              "      <td>33.6</td>\n",
              "      <td>0.627</td>\n",
              "      <td>50</td>\n",
              "    </tr>\n",
              "    <tr>\n",
              "      <th>1</th>\n",
              "      <td>1</td>\n",
              "      <td>85.0</td>\n",
              "      <td>66</td>\n",
              "      <td>29</td>\n",
              "      <td>0</td>\n",
              "      <td>26.6</td>\n",
              "      <td>0.351</td>\n",
              "      <td>31</td>\n",
              "    </tr>\n",
              "    <tr>\n",
              "      <th>2</th>\n",
              "      <td>8</td>\n",
              "      <td>183.0</td>\n",
              "      <td>64</td>\n",
              "      <td>0</td>\n",
              "      <td>0</td>\n",
              "      <td>23.3</td>\n",
              "      <td>0.672</td>\n",
              "      <td>32</td>\n",
              "    </tr>\n",
              "    <tr>\n",
              "      <th>3</th>\n",
              "      <td>1</td>\n",
              "      <td>89.0</td>\n",
              "      <td>66</td>\n",
              "      <td>23</td>\n",
              "      <td>94</td>\n",
              "      <td>28.1</td>\n",
              "      <td>0.167</td>\n",
              "      <td>21</td>\n",
              "    </tr>\n",
              "    <tr>\n",
              "      <th>4</th>\n",
              "      <td>0</td>\n",
              "      <td>137.0</td>\n",
              "      <td>40</td>\n",
              "      <td>35</td>\n",
              "      <td>168</td>\n",
              "      <td>43.1</td>\n",
              "      <td>2.288</td>\n",
              "      <td>33</td>\n",
              "    </tr>\n",
              "    <tr>\n",
              "      <th>...</th>\n",
              "      <td>...</td>\n",
              "      <td>...</td>\n",
              "      <td>...</td>\n",
              "      <td>...</td>\n",
              "      <td>...</td>\n",
              "      <td>...</td>\n",
              "      <td>...</td>\n",
              "      <td>...</td>\n",
              "    </tr>\n",
              "    <tr>\n",
              "      <th>763</th>\n",
              "      <td>10</td>\n",
              "      <td>101.0</td>\n",
              "      <td>76</td>\n",
              "      <td>48</td>\n",
              "      <td>180</td>\n",
              "      <td>32.9</td>\n",
              "      <td>0.171</td>\n",
              "      <td>63</td>\n",
              "    </tr>\n",
              "    <tr>\n",
              "      <th>764</th>\n",
              "      <td>2</td>\n",
              "      <td>122.0</td>\n",
              "      <td>70</td>\n",
              "      <td>27</td>\n",
              "      <td>0</td>\n",
              "      <td>36.8</td>\n",
              "      <td>0.340</td>\n",
              "      <td>27</td>\n",
              "    </tr>\n",
              "    <tr>\n",
              "      <th>765</th>\n",
              "      <td>5</td>\n",
              "      <td>121.0</td>\n",
              "      <td>72</td>\n",
              "      <td>23</td>\n",
              "      <td>112</td>\n",
              "      <td>26.2</td>\n",
              "      <td>0.245</td>\n",
              "      <td>30</td>\n",
              "    </tr>\n",
              "    <tr>\n",
              "      <th>766</th>\n",
              "      <td>1</td>\n",
              "      <td>126.0</td>\n",
              "      <td>60</td>\n",
              "      <td>0</td>\n",
              "      <td>0</td>\n",
              "      <td>30.1</td>\n",
              "      <td>0.349</td>\n",
              "      <td>47</td>\n",
              "    </tr>\n",
              "    <tr>\n",
              "      <th>767</th>\n",
              "      <td>1</td>\n",
              "      <td>93.0</td>\n",
              "      <td>70</td>\n",
              "      <td>31</td>\n",
              "      <td>0</td>\n",
              "      <td>30.4</td>\n",
              "      <td>0.315</td>\n",
              "      <td>23</td>\n",
              "    </tr>\n",
              "  </tbody>\n",
              "</table>\n",
              "<p>768 rows × 8 columns</p>\n",
              "</div>"
            ],
            "text/plain": [
              "     Pregnancies  Glucose  BloodPressure  ...   BMI  DiabetesPedigreeFunction  Age\n",
              "0              6    148.0             72  ...  33.6                     0.627   50\n",
              "1              1     85.0             66  ...  26.6                     0.351   31\n",
              "2              8    183.0             64  ...  23.3                     0.672   32\n",
              "3              1     89.0             66  ...  28.1                     0.167   21\n",
              "4              0    137.0             40  ...  43.1                     2.288   33\n",
              "..           ...      ...            ...  ...   ...                       ...  ...\n",
              "763           10    101.0             76  ...  32.9                     0.171   63\n",
              "764            2    122.0             70  ...  36.8                     0.340   27\n",
              "765            5    121.0             72  ...  26.2                     0.245   30\n",
              "766            1    126.0             60  ...  30.1                     0.349   47\n",
              "767            1     93.0             70  ...  30.4                     0.315   23\n",
              "\n",
              "[768 rows x 8 columns]"
            ]
          },
          "metadata": {
            "tags": []
          },
          "execution_count": 5
        }
      ]
    },
    {
      "cell_type": "code",
      "metadata": {
        "id": "vXzOEytvs4ld"
      },
      "source": [
        "#### Train Test Split\n",
        "from sklearn.model_selection import train_test_split\n",
        "X_train,X_test,y_train,y_test=train_test_split(X,y,test_size=0.20,random_state=0)"
      ],
      "execution_count": 6,
      "outputs": []
    },
    {
      "cell_type": "code",
      "metadata": {
        "id": "QAjeQHI7s4lm"
      },
      "source": [
        "from sklearn.ensemble import RandomForestClassifier\n",
        "rf_classifier=RandomForestClassifier(n_estimators=10).fit(X_train,y_train)\n",
        "prediction=rf_classifier.predict(X_test)"
      ],
      "execution_count": 7,
      "outputs": []
    },
    {
      "cell_type": "code",
      "metadata": {
        "id": "iwsworTBs4lv",
        "outputId": "251bc4b2-1518-4756-9c2d-b0ecc6b0b78a",
        "colab": {
          "base_uri": "https://localhost:8080/",
          "height": 68
        }
      },
      "source": [
        "y.value_counts()"
      ],
      "execution_count": 8,
      "outputs": [
        {
          "output_type": "execute_result",
          "data": {
            "text/plain": [
              "0    500\n",
              "1    268\n",
              "Name: Outcome, dtype: int64"
            ]
          },
          "metadata": {
            "tags": []
          },
          "execution_count": 8
        }
      ]
    },
    {
      "cell_type": "code",
      "metadata": {
        "id": "fWcrtZp2s4l4",
        "outputId": "9ec221cb-e141-49b9-de14-30a6e86ce363",
        "colab": {
          "base_uri": "https://localhost:8080/",
          "height": 221
        }
      },
      "source": [
        "from sklearn.metrics import confusion_matrix,classification_report,accuracy_score\n",
        "print(confusion_matrix(y_test,prediction))\n",
        "print(accuracy_score(y_test,prediction))\n",
        "print(classification_report(y_test,prediction))"
      ],
      "execution_count": 9,
      "outputs": [
        {
          "output_type": "stream",
          "text": [
            "[[96 11]\n",
            " [17 30]]\n",
            "0.8181818181818182\n",
            "              precision    recall  f1-score   support\n",
            "\n",
            "           0       0.85      0.90      0.87       107\n",
            "           1       0.73      0.64      0.68        47\n",
            "\n",
            "    accuracy                           0.82       154\n",
            "   macro avg       0.79      0.77      0.78       154\n",
            "weighted avg       0.81      0.82      0.81       154\n",
            "\n"
          ],
          "name": "stdout"
        }
      ]
    },
    {
      "cell_type": "markdown",
      "metadata": {
        "id": "eNOy9dcZs4l_"
      },
      "source": [
        "The main parameters used by a Random Forest Classifier are:\n",
        "\n",
        "- criterion = the function used to evaluate the quality of a split.\n",
        "- max_depth = maximum number of levels allowed in each tree.\n",
        "- max_features = maximum number of features considered when splitting a node.\n",
        "- min_samples_leaf = minimum number of samples which can be stored in a tree leaf.\n",
        "- min_samples_split = minimum number of samples necessary in a node to cause node splitting.\n",
        "- n_estimators = number of trees in the ensamble."
      ]
    },
    {
      "cell_type": "code",
      "metadata": {
        "id": "FcxrDiKHs4mI",
        "outputId": "856e9036-f895-4e3c-c8f0-90566e3be94b",
        "colab": {
          "base_uri": "https://localhost:8080/",
          "height": 221
        }
      },
      "source": [
        "### Manual Hyperparameter Tuning\n",
        "model=RandomForestClassifier(n_estimators=300,criterion='entropy',\n",
        "                             max_features='sqrt',min_samples_leaf=10,random_state=100).fit(X_train,y_train)\n",
        "predictions=model.predict(X_test)\n",
        "print(confusion_matrix(y_test,predictions))\n",
        "print(accuracy_score(y_test,predictions))\n",
        "print(classification_report(y_test,predictions))"
      ],
      "execution_count": 10,
      "outputs": [
        {
          "output_type": "stream",
          "text": [
            "[[98  9]\n",
            " [18 29]]\n",
            "0.8246753246753247\n",
            "              precision    recall  f1-score   support\n",
            "\n",
            "           0       0.84      0.92      0.88       107\n",
            "           1       0.76      0.62      0.68        47\n",
            "\n",
            "    accuracy                           0.82       154\n",
            "   macro avg       0.80      0.77      0.78       154\n",
            "weighted avg       0.82      0.82      0.82       154\n",
            "\n"
          ],
          "name": "stdout"
        }
      ]
    },
    {
      "cell_type": "markdown",
      "metadata": {
        "id": "KROikMQPs4mX"
      },
      "source": [
        "##### Randomized Search Cv"
      ]
    },
    {
      "cell_type": "code",
      "metadata": {
        "id": "aSt3SFy0s4mZ",
        "outputId": "70f2aef0-db0e-4b9d-b116-94006062ea71",
        "colab": {
          "base_uri": "https://localhost:8080/",
          "height": 54
        }
      },
      "source": [
        "import numpy as np\n",
        "from sklearn.model_selection import RandomizedSearchCV\n",
        "# Number of trees in random forest\n",
        "n_estimators = [int(x) for x in np.linspace(start = 200, stop = 2000, num = 10)]\n",
        "# Number of features to consider at every split\n",
        "max_features = ['auto', 'sqrt','log2']\n",
        "# Maximum number of levels in tree\n",
        "max_depth = [int(x) for x in np.linspace(10, 1000,10)]\n",
        "# Minimum number of samples required to split a node\n",
        "min_samples_split = [2, 5, 10,14]\n",
        "# Minimum number of samples required at each leaf node\n",
        "min_samples_leaf = [1, 2, 4,6,8]\n",
        "# Create the random grid\n",
        "random_grid = {'n_estimators': n_estimators,\n",
        "               'max_features': max_features,\n",
        "               'max_depth': max_depth,\n",
        "               'min_samples_split': min_samples_split,\n",
        "               'min_samples_leaf': min_samples_leaf,\n",
        "              'criterion':['entropy','gini']}\n",
        "print(random_grid)"
      ],
      "execution_count": 11,
      "outputs": [
        {
          "output_type": "stream",
          "text": [
            "{'n_estimators': [200, 400, 600, 800, 1000, 1200, 1400, 1600, 1800, 2000], 'max_features': ['auto', 'sqrt', 'log2'], 'max_depth': [10, 120, 230, 340, 450, 560, 670, 780, 890, 1000], 'min_samples_split': [2, 5, 10, 14], 'min_samples_leaf': [1, 2, 4, 6, 8], 'criterion': ['entropy', 'gini']}\n"
          ],
          "name": "stdout"
        }
      ]
    },
    {
      "cell_type": "code",
      "metadata": {
        "id": "bjDywFpgs4mi",
        "outputId": "cc4ce58c-2be0-4668-b146-b225df887eb1",
        "colab": {
          "base_uri": "https://localhost:8080/",
          "height": 595
        }
      },
      "source": [
        "rf=RandomForestClassifier()\n",
        "rf_randomcv=RandomizedSearchCV(estimator=rf,param_distributions=random_grid,n_iter=100,cv=3,verbose=2,\n",
        "                               random_state=100,n_jobs=-1)\n",
        "### fit the randomized model\n",
        "rf_randomcv.fit(X_train,y_train)"
      ],
      "execution_count": 12,
      "outputs": [
        {
          "output_type": "stream",
          "text": [
            "Fitting 3 folds for each of 100 candidates, totalling 300 fits\n"
          ],
          "name": "stdout"
        },
        {
          "output_type": "stream",
          "text": [
            "[Parallel(n_jobs=-1)]: Using backend LokyBackend with 2 concurrent workers.\n",
            "[Parallel(n_jobs=-1)]: Done  37 tasks      | elapsed:  1.0min\n",
            "[Parallel(n_jobs=-1)]: Done 158 tasks      | elapsed:  4.2min\n",
            "[Parallel(n_jobs=-1)]: Done 300 out of 300 | elapsed:  8.0min finished\n"
          ],
          "name": "stderr"
        },
        {
          "output_type": "execute_result",
          "data": {
            "text/plain": [
              "RandomizedSearchCV(cv=3, error_score=nan,\n",
              "                   estimator=RandomForestClassifier(bootstrap=True,\n",
              "                                                    ccp_alpha=0.0,\n",
              "                                                    class_weight=None,\n",
              "                                                    criterion='gini',\n",
              "                                                    max_depth=None,\n",
              "                                                    max_features='auto',\n",
              "                                                    max_leaf_nodes=None,\n",
              "                                                    max_samples=None,\n",
              "                                                    min_impurity_decrease=0.0,\n",
              "                                                    min_impurity_split=None,\n",
              "                                                    min_samples_leaf=1,\n",
              "                                                    min_samples_split=2,\n",
              "                                                    min_weight_fraction_leaf=0.0,\n",
              "                                                    n_estimators=100,\n",
              "                                                    n_jobs...\n",
              "                   param_distributions={'criterion': ['entropy', 'gini'],\n",
              "                                        'max_depth': [10, 120, 230, 340, 450,\n",
              "                                                      560, 670, 780, 890,\n",
              "                                                      1000],\n",
              "                                        'max_features': ['auto', 'sqrt',\n",
              "                                                         'log2'],\n",
              "                                        'min_samples_leaf': [1, 2, 4, 6, 8],\n",
              "                                        'min_samples_split': [2, 5, 10, 14],\n",
              "                                        'n_estimators': [200, 400, 600, 800,\n",
              "                                                         1000, 1200, 1400, 1600,\n",
              "                                                         1800, 2000]},\n",
              "                   pre_dispatch='2*n_jobs', random_state=100, refit=True,\n",
              "                   return_train_score=False, scoring=None, verbose=2)"
            ]
          },
          "metadata": {
            "tags": []
          },
          "execution_count": 12
        }
      ]
    },
    {
      "cell_type": "code",
      "metadata": {
        "id": "NRF6B2F-s4mw",
        "outputId": "88814b6e-e15c-47d7-9106-2783b6e3fa05",
        "colab": {
          "base_uri": "https://localhost:8080/",
          "height": 119
        }
      },
      "source": [
        "rf_randomcv.best_params_"
      ],
      "execution_count": 13,
      "outputs": [
        {
          "output_type": "execute_result",
          "data": {
            "text/plain": [
              "{'criterion': 'gini',\n",
              " 'max_depth': 1000,\n",
              " 'max_features': 'auto',\n",
              " 'min_samples_leaf': 2,\n",
              " 'min_samples_split': 2,\n",
              " 'n_estimators': 1000}"
            ]
          },
          "metadata": {
            "tags": []
          },
          "execution_count": 13
        }
      ]
    },
    {
      "cell_type": "code",
      "metadata": {
        "id": "gvVvkf6ys4m2",
        "outputId": "eff4b11c-2a5c-40fe-a80f-60e4de52a9ab",
        "colab": {
          "base_uri": "https://localhost:8080/",
          "height": 510
        }
      },
      "source": [
        "rf_randomcv"
      ],
      "execution_count": 14,
      "outputs": [
        {
          "output_type": "execute_result",
          "data": {
            "text/plain": [
              "RandomizedSearchCV(cv=3, error_score=nan,\n",
              "                   estimator=RandomForestClassifier(bootstrap=True,\n",
              "                                                    ccp_alpha=0.0,\n",
              "                                                    class_weight=None,\n",
              "                                                    criterion='gini',\n",
              "                                                    max_depth=None,\n",
              "                                                    max_features='auto',\n",
              "                                                    max_leaf_nodes=None,\n",
              "                                                    max_samples=None,\n",
              "                                                    min_impurity_decrease=0.0,\n",
              "                                                    min_impurity_split=None,\n",
              "                                                    min_samples_leaf=1,\n",
              "                                                    min_samples_split=2,\n",
              "                                                    min_weight_fraction_leaf=0.0,\n",
              "                                                    n_estimators=100,\n",
              "                                                    n_jobs...\n",
              "                   param_distributions={'criterion': ['entropy', 'gini'],\n",
              "                                        'max_depth': [10, 120, 230, 340, 450,\n",
              "                                                      560, 670, 780, 890,\n",
              "                                                      1000],\n",
              "                                        'max_features': ['auto', 'sqrt',\n",
              "                                                         'log2'],\n",
              "                                        'min_samples_leaf': [1, 2, 4, 6, 8],\n",
              "                                        'min_samples_split': [2, 5, 10, 14],\n",
              "                                        'n_estimators': [200, 400, 600, 800,\n",
              "                                                         1000, 1200, 1400, 1600,\n",
              "                                                         1800, 2000]},\n",
              "                   pre_dispatch='2*n_jobs', random_state=100, refit=True,\n",
              "                   return_train_score=False, scoring=None, verbose=2)"
            ]
          },
          "metadata": {
            "tags": []
          },
          "execution_count": 14
        }
      ]
    },
    {
      "cell_type": "code",
      "metadata": {
        "id": "OODrV6OHs4m_"
      },
      "source": [
        "best_random_grid=rf_randomcv.best_estimator_"
      ],
      "execution_count": 15,
      "outputs": []
    },
    {
      "cell_type": "code",
      "metadata": {
        "id": "i4Bq35Kus4nK",
        "outputId": "610f0cba-3094-48b1-fae1-0681d934c9f5",
        "colab": {
          "base_uri": "https://localhost:8080/",
          "height": 221
        }
      },
      "source": [
        "from sklearn.metrics import accuracy_score\n",
        "y_pred=best_random_grid.predict(X_test)\n",
        "print(confusion_matrix(y_test,y_pred))\n",
        "print(\"Accuracy Score {}\".format(accuracy_score(y_test,y_pred)))\n",
        "print(\"Classification report: {}\".format(classification_report(y_test,y_pred)))"
      ],
      "execution_count": 16,
      "outputs": [
        {
          "output_type": "stream",
          "text": [
            "[[95 12]\n",
            " [16 31]]\n",
            "Accuracy Score 0.8181818181818182\n",
            "Classification report:               precision    recall  f1-score   support\n",
            "\n",
            "           0       0.86      0.89      0.87       107\n",
            "           1       0.72      0.66      0.69        47\n",
            "\n",
            "    accuracy                           0.82       154\n",
            "   macro avg       0.79      0.77      0.78       154\n",
            "weighted avg       0.81      0.82      0.82       154\n",
            "\n"
          ],
          "name": "stdout"
        }
      ]
    },
    {
      "cell_type": "markdown",
      "metadata": {
        "id": "M3Hn21Zrs4nQ"
      },
      "source": [
        "#### GridSearch CV"
      ]
    },
    {
      "cell_type": "code",
      "metadata": {
        "id": "uEDmLAkus4nR",
        "outputId": "ad3c096e-11d4-4c44-eb83-1e2bd7234e58",
        "colab": {
          "base_uri": "https://localhost:8080/",
          "height": 119
        }
      },
      "source": [
        "rf_randomcv.best_params_"
      ],
      "execution_count": 17,
      "outputs": [
        {
          "output_type": "execute_result",
          "data": {
            "text/plain": [
              "{'criterion': 'gini',\n",
              " 'max_depth': 1000,\n",
              " 'max_features': 'auto',\n",
              " 'min_samples_leaf': 2,\n",
              " 'min_samples_split': 2,\n",
              " 'n_estimators': 1000}"
            ]
          },
          "metadata": {
            "tags": []
          },
          "execution_count": 17
        }
      ]
    },
    {
      "cell_type": "code",
      "metadata": {
        "id": "QHqdaDH0s4nd",
        "outputId": "ca2e5ea3-7708-48f2-af1b-96775e1875dd",
        "colab": {
          "base_uri": "https://localhost:8080/",
          "height": 54
        }
      },
      "source": [
        "from sklearn.model_selection import GridSearchCV\n",
        "\n",
        "param_grid = {\n",
        "    'criterion': [rf_randomcv.best_params_['criterion']],\n",
        "    'max_depth': [rf_randomcv.best_params_['max_depth']],\n",
        "    'max_features': [rf_randomcv.best_params_['max_features']],\n",
        "    'min_samples_leaf': [rf_randomcv.best_params_['min_samples_leaf'], \n",
        "                         rf_randomcv.best_params_['min_samples_leaf']+2, \n",
        "                         rf_randomcv.best_params_['min_samples_leaf'] + 4],\n",
        "    'min_samples_split': [rf_randomcv.best_params_['min_samples_split'] - 2,\n",
        "                          rf_randomcv.best_params_['min_samples_split'] - 1,\n",
        "                          rf_randomcv.best_params_['min_samples_split'], \n",
        "                          rf_randomcv.best_params_['min_samples_split'] +1,\n",
        "                          rf_randomcv.best_params_['min_samples_split'] + 2],\n",
        "    'n_estimators': [rf_randomcv.best_params_['n_estimators'] - 200, rf_randomcv.best_params_['n_estimators'] - 100, \n",
        "                     rf_randomcv.best_params_['n_estimators'], \n",
        "                     rf_randomcv.best_params_['n_estimators'] + 100, rf_randomcv.best_params_['n_estimators'] + 200]\n",
        "}\n",
        "\n",
        "print(param_grid)"
      ],
      "execution_count": 18,
      "outputs": [
        {
          "output_type": "stream",
          "text": [
            "{'criterion': ['gini'], 'max_depth': [1000], 'max_features': ['auto'], 'min_samples_leaf': [2, 4, 6], 'min_samples_split': [0, 1, 2, 3, 4], 'n_estimators': [800, 900, 1000, 1100, 1200]}\n"
          ],
          "name": "stdout"
        }
      ]
    },
    {
      "cell_type": "code",
      "metadata": {
        "id": "FWnfKiAms4ni",
        "outputId": "5812f392-f02a-4fb7-ad81-c2e0088c671b",
        "colab": {
          "base_uri": "https://localhost:8080/",
          "height": 544
        }
      },
      "source": [
        "#### Fit the grid_search to the data\n",
        "rf=RandomForestClassifier()\n",
        "grid_search=GridSearchCV(estimator=rf,param_grid=param_grid,cv=10,n_jobs=-1,verbose=2)\n",
        "grid_search.fit(X_train,y_train)\n"
      ],
      "execution_count": 19,
      "outputs": [
        {
          "output_type": "stream",
          "text": [
            "Fitting 10 folds for each of 75 candidates, totalling 750 fits\n"
          ],
          "name": "stdout"
        },
        {
          "output_type": "stream",
          "text": [
            "[Parallel(n_jobs=-1)]: Using backend LokyBackend with 2 concurrent workers.\n",
            "[Parallel(n_jobs=-1)]: Done  37 tasks      | elapsed:   12.5s\n",
            "[Parallel(n_jobs=-1)]: Done 158 tasks      | elapsed:  1.9min\n",
            "[Parallel(n_jobs=-1)]: Done 361 tasks      | elapsed:  5.0min\n",
            "[Parallel(n_jobs=-1)]: Done 644 tasks      | elapsed:  9.8min\n",
            "[Parallel(n_jobs=-1)]: Done 750 out of 750 | elapsed: 12.3min finished\n"
          ],
          "name": "stderr"
        },
        {
          "output_type": "execute_result",
          "data": {
            "text/plain": [
              "GridSearchCV(cv=10, error_score=nan,\n",
              "             estimator=RandomForestClassifier(bootstrap=True, ccp_alpha=0.0,\n",
              "                                              class_weight=None,\n",
              "                                              criterion='gini', max_depth=None,\n",
              "                                              max_features='auto',\n",
              "                                              max_leaf_nodes=None,\n",
              "                                              max_samples=None,\n",
              "                                              min_impurity_decrease=0.0,\n",
              "                                              min_impurity_split=None,\n",
              "                                              min_samples_leaf=1,\n",
              "                                              min_samples_split=2,\n",
              "                                              min_weight_fraction_leaf=0.0,\n",
              "                                              n_estimators=100, n_jobs=None,\n",
              "                                              oob_score=False,\n",
              "                                              random_state=None, verbose=0,\n",
              "                                              warm_start=False),\n",
              "             iid='deprecated', n_jobs=-1,\n",
              "             param_grid={'criterion': ['gini'], 'max_depth': [1000],\n",
              "                         'max_features': ['auto'],\n",
              "                         'min_samples_leaf': [2, 4, 6],\n",
              "                         'min_samples_split': [0, 1, 2, 3, 4],\n",
              "                         'n_estimators': [800, 900, 1000, 1100, 1200]},\n",
              "             pre_dispatch='2*n_jobs', refit=True, return_train_score=False,\n",
              "             scoring=None, verbose=2)"
            ]
          },
          "metadata": {
            "tags": []
          },
          "execution_count": 19
        }
      ]
    },
    {
      "cell_type": "code",
      "metadata": {
        "id": "36S0HeHLs4no",
        "outputId": "0d72dde2-2a48-4623-cc34-94bbb305a68c",
        "colab": {
          "base_uri": "https://localhost:8080/",
          "height": 153
        }
      },
      "source": [
        "grid_search.best_estimator_"
      ],
      "execution_count": 20,
      "outputs": [
        {
          "output_type": "execute_result",
          "data": {
            "text/plain": [
              "RandomForestClassifier(bootstrap=True, ccp_alpha=0.0, class_weight=None,\n",
              "                       criterion='gini', max_depth=1000, max_features='auto',\n",
              "                       max_leaf_nodes=None, max_samples=None,\n",
              "                       min_impurity_decrease=0.0, min_impurity_split=None,\n",
              "                       min_samples_leaf=4, min_samples_split=3,\n",
              "                       min_weight_fraction_leaf=0.0, n_estimators=1200,\n",
              "                       n_jobs=None, oob_score=False, random_state=None,\n",
              "                       verbose=0, warm_start=False)"
            ]
          },
          "metadata": {
            "tags": []
          },
          "execution_count": 20
        }
      ]
    },
    {
      "cell_type": "code",
      "metadata": {
        "id": "IGPZawxSs4nx"
      },
      "source": [
        "best_grid=grid_search.best_estimator_"
      ],
      "execution_count": 21,
      "outputs": []
    },
    {
      "cell_type": "code",
      "metadata": {
        "id": "lSqaD_Els4n7",
        "outputId": "a75e97f9-c35a-498d-c11f-641eb4f864aa",
        "colab": {
          "base_uri": "https://localhost:8080/",
          "height": 153
        }
      },
      "source": [
        "best_grid"
      ],
      "execution_count": 22,
      "outputs": [
        {
          "output_type": "execute_result",
          "data": {
            "text/plain": [
              "RandomForestClassifier(bootstrap=True, ccp_alpha=0.0, class_weight=None,\n",
              "                       criterion='gini', max_depth=1000, max_features='auto',\n",
              "                       max_leaf_nodes=None, max_samples=None,\n",
              "                       min_impurity_decrease=0.0, min_impurity_split=None,\n",
              "                       min_samples_leaf=4, min_samples_split=3,\n",
              "                       min_weight_fraction_leaf=0.0, n_estimators=1200,\n",
              "                       n_jobs=None, oob_score=False, random_state=None,\n",
              "                       verbose=0, warm_start=False)"
            ]
          },
          "metadata": {
            "tags": []
          },
          "execution_count": 22
        }
      ]
    },
    {
      "cell_type": "code",
      "metadata": {
        "id": "3dd0UANps4oA",
        "outputId": "d269a637-1b62-48c8-8bf6-25d6a388fdf9",
        "colab": {
          "base_uri": "https://localhost:8080/",
          "height": 221
        }
      },
      "source": [
        "y_pred=best_grid.predict(X_test)\n",
        "print(confusion_matrix(y_test,y_pred))\n",
        "print(\"Accuracy Score {}\".format(accuracy_score(y_test,y_pred)))\n",
        "print(\"Classification report: {}\".format(classification_report(y_test,y_pred)))"
      ],
      "execution_count": 23,
      "outputs": [
        {
          "output_type": "stream",
          "text": [
            "[[97 10]\n",
            " [18 29]]\n",
            "Accuracy Score 0.8181818181818182\n",
            "Classification report:               precision    recall  f1-score   support\n",
            "\n",
            "           0       0.84      0.91      0.87       107\n",
            "           1       0.74      0.62      0.67        47\n",
            "\n",
            "    accuracy                           0.82       154\n",
            "   macro avg       0.79      0.76      0.77       154\n",
            "weighted avg       0.81      0.82      0.81       154\n",
            "\n"
          ],
          "name": "stdout"
        }
      ]
    },
    {
      "cell_type": "markdown",
      "metadata": {
        "id": "9kS4p-oJs4oH"
      },
      "source": [
        "### Automated Hyperparameter Tuning\n",
        "Automated Hyperparameter Tuning can be done by using techniques such as \n",
        "- Bayesian Optimization\n",
        "- Gradient Descent\n",
        "- Evolutionary Algorithms"
      ]
    },
    {
      "cell_type": "markdown",
      "metadata": {
        "id": "t5PIC_A1s4oI"
      },
      "source": [
        "#### Bayesian Optimization\n",
        "Bayesian optimization uses probability to find the minimum of a function. The final aim is to find the input value to a function which can gives us the lowest possible output value.It usually performs better than random,grid and manual search providing better performance in the testing phase and reduced optimization time.\n",
        "In Hyperopt, Bayesian Optimization can be implemented giving 3 three main parameters to the function fmin.\n",
        "\n",
        "- Objective Function = defines the loss function to minimize.\n",
        "- Domain Space = defines the range of input values to test (in Bayesian Optimization this space creates a probability distribution for each of the used Hyperparameters).\n",
        "- Optimization Algorithm = defines the search algorithm to use to select the best input values to use in each new iteration."
      ]
    },
    {
      "cell_type": "code",
      "metadata": {
        "id": "0IQsolf8s4oJ"
      },
      "source": [
        "from hyperopt import hp,fmin,tpe,STATUS_OK,Trials"
      ],
      "execution_count": 24,
      "outputs": []
    },
    {
      "cell_type": "code",
      "metadata": {
        "id": "4snQKHT8s4oP"
      },
      "source": [
        "space = {'criterion': hp.choice('criterion', ['entropy', 'gini']),\n",
        "        'max_depth': hp.quniform('max_depth', 10, 1200, 10),\n",
        "        'max_features': hp.choice('max_features', ['auto', 'sqrt','log2', None]),\n",
        "        'min_samples_leaf': hp.uniform('min_samples_leaf', 0, 0.5),\n",
        "        'min_samples_split' : hp.uniform ('min_samples_split', 0, 1),\n",
        "        'n_estimators' : hp.choice('n_estimators', [10, 50, 300, 750, 1200,1300,1500])\n",
        "    }"
      ],
      "execution_count": 25,
      "outputs": []
    },
    {
      "cell_type": "code",
      "metadata": {
        "id": "4GxU4ga1s4oW",
        "outputId": "148eaad6-f063-4501-8639-0a8e80b22996",
        "colab": {
          "base_uri": "https://localhost:8080/",
          "height": 119
        }
      },
      "source": [
        "space"
      ],
      "execution_count": 26,
      "outputs": [
        {
          "output_type": "execute_result",
          "data": {
            "text/plain": [
              "{'criterion': <hyperopt.pyll.base.Apply at 0x7f7a496c2d68>,\n",
              " 'max_depth': <hyperopt.pyll.base.Apply at 0x7f7a496c2f60>,\n",
              " 'max_features': <hyperopt.pyll.base.Apply at 0x7f7a496ca0b8>,\n",
              " 'min_samples_leaf': <hyperopt.pyll.base.Apply at 0x7f7a496ca2e8>,\n",
              " 'min_samples_split': <hyperopt.pyll.base.Apply at 0x7f7a496ca438>,\n",
              " 'n_estimators': <hyperopt.pyll.base.Apply at 0x7f7a496ca588>}"
            ]
          },
          "metadata": {
            "tags": []
          },
          "execution_count": 26
        }
      ]
    },
    {
      "cell_type": "code",
      "metadata": {
        "id": "AZOJA-eWs4og"
      },
      "source": [
        "\n",
        "def objective(space):\n",
        "    model = RandomForestClassifier(criterion = space['criterion'], max_depth = space['max_depth'],\n",
        "                                 max_features = space['max_features'],\n",
        "                                 min_samples_leaf = space['min_samples_leaf'],\n",
        "                                 min_samples_split = space['min_samples_split'],\n",
        "                                 n_estimators = space['n_estimators'], \n",
        "                                 )\n",
        "    \n",
        "    accuracy = cross_val_score(model, X_train, y_train, cv = 5).mean()\n",
        "\n",
        "    # We aim to maximize accuracy, therefore we return it as a negative value\n",
        "    return {'loss': -accuracy, 'status': STATUS_OK }"
      ],
      "execution_count": 27,
      "outputs": []
    },
    {
      "cell_type": "code",
      "metadata": {
        "id": "botmrsAJs4or",
        "outputId": "0980bc94-0167-44e7-97d2-80f8e1a1e771",
        "colab": {
          "base_uri": "https://localhost:8080/",
          "height": 136
        }
      },
      "source": [
        "from sklearn.model_selection import cross_val_score\n",
        "trials = Trials()\n",
        "best = fmin(fn= objective,\n",
        "            space= space,\n",
        "            algo= tpe.suggest,\n",
        "            max_evals = 80,\n",
        "            trials= trials)\n",
        "best"
      ],
      "execution_count": 28,
      "outputs": [
        {
          "output_type": "stream",
          "text": [
            "100%|██████████| 80/80 [08:39<00:00,  6.49s/it, best loss: -0.765480474476876]\n"
          ],
          "name": "stdout"
        },
        {
          "output_type": "execute_result",
          "data": {
            "text/plain": [
              "{'criterion': 0,\n",
              " 'max_depth': 980.0,\n",
              " 'max_features': 3,\n",
              " 'min_samples_leaf': 0.08570459481688902,\n",
              " 'min_samples_split': 0.12325377110202247,\n",
              " 'n_estimators': 4}"
            ]
          },
          "metadata": {
            "tags": []
          },
          "execution_count": 28
        }
      ]
    },
    {
      "cell_type": "code",
      "metadata": {
        "id": "vQa2ghjzs4qw",
        "outputId": "fe17f9a9-718e-4083-dc93-41cd716bd57b",
        "colab": {
          "base_uri": "https://localhost:8080/",
          "height": 68
        }
      },
      "source": [
        "crit = {0: 'entropy', 1: 'gini'}\n",
        "feat = {0: 'auto', 1: 'sqrt', 2: 'log2', 3: None}\n",
        "est = {0: 10, 1: 50, 2: 300, 3: 750, 4: 1200,5:1300,6:1500}\n",
        "\n",
        "\n",
        "print(crit[best['criterion']])\n",
        "print(feat[best['max_features']])\n",
        "print(est[best['n_estimators']])"
      ],
      "execution_count": 29,
      "outputs": [
        {
          "output_type": "stream",
          "text": [
            "entropy\n",
            "None\n",
            "1200\n"
          ],
          "name": "stdout"
        }
      ]
    },
    {
      "cell_type": "code",
      "metadata": {
        "id": "SX3W32IJs4q3",
        "outputId": "4102a089-b95d-445a-8673-31168790a942",
        "colab": {
          "base_uri": "https://localhost:8080/",
          "height": 34
        }
      },
      "source": [
        "best['min_samples_leaf']"
      ],
      "execution_count": 30,
      "outputs": [
        {
          "output_type": "execute_result",
          "data": {
            "text/plain": [
              "0.08570459481688902"
            ]
          },
          "metadata": {
            "tags": []
          },
          "execution_count": 30
        }
      ]
    },
    {
      "cell_type": "code",
      "metadata": {
        "id": "nOPgsuXAs4ra",
        "outputId": "9a716dd8-3c8b-4487-addc-4af5a02102e7",
        "colab": {
          "base_uri": "https://localhost:8080/",
          "height": 221
        }
      },
      "source": [
        "trainedforest = RandomForestClassifier(criterion = crit[best['criterion']], max_depth = best['max_depth'], \n",
        "                                       max_features = feat[best['max_features']], \n",
        "                                       min_samples_leaf = best['min_samples_leaf'], \n",
        "                                       min_samples_split = best['min_samples_split'], \n",
        "                                       n_estimators = est[best['n_estimators']]).fit(X_train,y_train)\n",
        "predictionforest = trainedforest.predict(X_test)\n",
        "print(confusion_matrix(y_test,predictionforest))\n",
        "print(accuracy_score(y_test,predictionforest))\n",
        "print(classification_report(y_test,predictionforest))\n",
        "acc5 = accuracy_score(y_test,predictionforest)"
      ],
      "execution_count": 31,
      "outputs": [
        {
          "output_type": "stream",
          "text": [
            "[[95 12]\n",
            " [23 24]]\n",
            "0.7727272727272727\n",
            "              precision    recall  f1-score   support\n",
            "\n",
            "           0       0.81      0.89      0.84       107\n",
            "           1       0.67      0.51      0.58        47\n",
            "\n",
            "    accuracy                           0.77       154\n",
            "   macro avg       0.74      0.70      0.71       154\n",
            "weighted avg       0.76      0.77      0.76       154\n",
            "\n"
          ],
          "name": "stdout"
        }
      ]
    },
    {
      "cell_type": "markdown",
      "metadata": {
        "id": "ZRKuRluxs4rg"
      },
      "source": [
        "#### Genetic Algorithms\n",
        "Genetic Algorithms tries to apply natural selection mechanisms to Machine Learning contexts.\n",
        "\n",
        "Let's immagine we create a population of N Machine Learning models with some predifined Hyperparameters. We can then calculate the accuracy of each model and decide to keep just half of the models (the ones that performs best). We can now generate some offsprings having similar Hyperparameters to the ones of the best models so that go get again a population of N models. At this point we can again caltulate the accuracy of each model and repeate the cycle for a defined number of generations. In this way, just the best models will survive at the end of the process."
      ]
    },
    {
      "cell_type": "code",
      "metadata": {
        "id": "Ln9aAQKps4rl",
        "outputId": "9ba8e7b1-79aa-420c-8e05-19a74eca16df",
        "colab": {
          "base_uri": "https://localhost:8080/",
          "height": 54
        }
      },
      "source": [
        "import numpy as np\n",
        "from sklearn.model_selection import RandomizedSearchCV\n",
        "# Number of trees in random forest\n",
        "n_estimators = [int(x) for x in np.linspace(start = 200, stop = 2000, num = 10)]\n",
        "# Number of features to consider at every split\n",
        "max_features = ['auto', 'sqrt','log2']\n",
        "# Maximum number of levels in tree\n",
        "max_depth = [int(x) for x in np.linspace(10, 1000,10)]\n",
        "# Minimum number of samples required to split a node\n",
        "min_samples_split = [2, 5, 10,14]\n",
        "# Minimum number of samples required at each leaf node\n",
        "min_samples_leaf = [1, 2, 4,6,8]\n",
        "# Create the random grid\n",
        "param = {'n_estimators': n_estimators,\n",
        "               'max_features': max_features,\n",
        "               'max_depth': max_depth,\n",
        "               'min_samples_split': min_samples_split,\n",
        "               'min_samples_leaf': min_samples_leaf,\n",
        "              'criterion':['entropy','gini']}\n",
        "print(param)"
      ],
      "execution_count": 32,
      "outputs": [
        {
          "output_type": "stream",
          "text": [
            "{'n_estimators': [200, 400, 600, 800, 1000, 1200, 1400, 1600, 1800, 2000], 'max_features': ['auto', 'sqrt', 'log2'], 'max_depth': [10, 120, 230, 340, 450, 560, 670, 780, 890, 1000], 'min_samples_split': [2, 5, 10, 14], 'min_samples_leaf': [1, 2, 4, 6, 8], 'criterion': ['entropy', 'gini']}\n"
          ],
          "name": "stdout"
        }
      ]
    },
    {
      "cell_type": "code",
      "metadata": {
        "id": "p3u9PAzu_WoZ",
        "outputId": "1e2a94dd-85ad-4da4-ece7-7bb02f5021d2",
        "colab": {
          "base_uri": "https://localhost:8080/",
          "height": 564
        }
      },
      "source": [
        "# Install tpot library\n",
        "pip install tpot"
      ],
      "execution_count": 35,
      "outputs": [
        {
          "output_type": "stream",
          "text": [
            "Collecting tpot\n",
            "\u001b[?25l  Downloading https://files.pythonhosted.org/packages/14/5e/cb87b0257033a7a396e533a634079ee151a239d180efe2a8b1d2e3584d23/TPOT-0.11.5-py3-none-any.whl (82kB)\n",
            "\u001b[K     |████████████████████████████████| 92kB 2.2MB/s \n",
            "\u001b[?25hCollecting deap>=1.2\n",
            "\u001b[?25l  Downloading https://files.pythonhosted.org/packages/0a/eb/2bd0a32e3ce757fb26264765abbaedd6d4d3640d90219a513aeabd08ee2b/deap-1.3.1-cp36-cp36m-manylinux2010_x86_64.whl (157kB)\n",
            "\u001b[K     |████████████████████████████████| 163kB 8.7MB/s \n",
            "\u001b[?25hCollecting update-checker>=0.16\n",
            "  Downloading https://files.pythonhosted.org/packages/0c/ba/8dd7fa5f0b1c6a8ac62f8f57f7e794160c1f86f31c6d0fb00f582372a3e4/update_checker-0.18.0-py3-none-any.whl\n",
            "Requirement already satisfied: scipy>=1.3.1 in /usr/local/lib/python3.6/dist-packages (from tpot) (1.4.1)\n",
            "Requirement already satisfied: scikit-learn>=0.22.0 in /usr/local/lib/python3.6/dist-packages (from tpot) (0.22.2.post1)\n",
            "Requirement already satisfied: tqdm>=4.36.1 in /usr/local/lib/python3.6/dist-packages (from tpot) (4.41.1)\n",
            "Requirement already satisfied: numpy>=1.16.3 in /usr/local/lib/python3.6/dist-packages (from tpot) (1.18.5)\n",
            "Requirement already satisfied: pandas>=0.24.2 in /usr/local/lib/python3.6/dist-packages (from tpot) (1.1.2)\n",
            "Collecting stopit>=1.1.1\n",
            "  Downloading https://files.pythonhosted.org/packages/35/58/e8bb0b0fb05baf07bbac1450c447d753da65f9701f551dca79823ce15d50/stopit-1.1.2.tar.gz\n",
            "Requirement already satisfied: joblib>=0.13.2 in /usr/local/lib/python3.6/dist-packages (from tpot) (0.16.0)\n",
            "Requirement already satisfied: requests>=2.3.0 in /usr/local/lib/python3.6/dist-packages (from update-checker>=0.16->tpot) (2.23.0)\n",
            "Requirement already satisfied: python-dateutil>=2.7.3 in /usr/local/lib/python3.6/dist-packages (from pandas>=0.24.2->tpot) (2.8.1)\n",
            "Requirement already satisfied: pytz>=2017.2 in /usr/local/lib/python3.6/dist-packages (from pandas>=0.24.2->tpot) (2018.9)\n",
            "Requirement already satisfied: certifi>=2017.4.17 in /usr/local/lib/python3.6/dist-packages (from requests>=2.3.0->update-checker>=0.16->tpot) (2020.6.20)\n",
            "Requirement already satisfied: chardet<4,>=3.0.2 in /usr/local/lib/python3.6/dist-packages (from requests>=2.3.0->update-checker>=0.16->tpot) (3.0.4)\n",
            "Requirement already satisfied: urllib3!=1.25.0,!=1.25.1,<1.26,>=1.21.1 in /usr/local/lib/python3.6/dist-packages (from requests>=2.3.0->update-checker>=0.16->tpot) (1.24.3)\n",
            "Requirement already satisfied: idna<3,>=2.5 in /usr/local/lib/python3.6/dist-packages (from requests>=2.3.0->update-checker>=0.16->tpot) (2.10)\n",
            "Requirement already satisfied: six>=1.5 in /usr/local/lib/python3.6/dist-packages (from python-dateutil>=2.7.3->pandas>=0.24.2->tpot) (1.15.0)\n",
            "Building wheels for collected packages: stopit\n",
            "  Building wheel for stopit (setup.py) ... \u001b[?25l\u001b[?25hdone\n",
            "  Created wheel for stopit: filename=stopit-1.1.2-cp36-none-any.whl size=11956 sha256=4b4d602cba67de0c4768f017839151f9ab2cbb96a1cde3611f32461897314964\n",
            "  Stored in directory: /root/.cache/pip/wheels/3c/85/2b/2580190404636bfc63e8de3dff629c03bb795021e1983a6cc7\n",
            "Successfully built stopit\n",
            "Installing collected packages: deap, update-checker, stopit, tpot\n",
            "Successfully installed deap-1.3.1 stopit-1.1.2 tpot-0.11.5 update-checker-0.18.0\n"
          ],
          "name": "stdout"
        }
      ]
    },
    {
      "cell_type": "code",
      "metadata": {
        "id": "28eamPzys4rq",
        "outputId": "cef76eb5-1786-4da2-8f3e-91a914ec6884",
        "colab": {
          "base_uri": "https://localhost:8080/",
          "height": 870,
          "referenced_widgets": [
            "7415084771054836b453941095ea607c",
            "d5b684cb7157418badc495d05a93f6f3",
            "21f9f0742df04d089d6a7edefd23d3f4",
            "59ad4e03cec74dd5970041fe12ad699b",
            "740870c0a61d4ec48eaf685e9392882e",
            "c20552dbff864d229664e403d030aafe",
            "602ef17cff9b481db858e796f9473f3a",
            "7db763f8deef4733a5d6ceee98b3deba"
          ]
        }
      },
      "source": [
        "from tpot import TPOTClassifier\n",
        "\n",
        "\n",
        "tpot_classifier = TPOTClassifier(generations= 5, population_size= 24, offspring_size= 12,\n",
        "                                 verbosity= 2, early_stop= 12,\n",
        "                                 config_dict={'sklearn.ensemble.RandomForestClassifier': param}, \n",
        "                                 cv = 4, scoring = 'accuracy')\n",
        "tpot_classifier.fit(X_train,y_train)"
      ],
      "execution_count": 36,
      "outputs": [
        {
          "output_type": "display_data",
          "data": {
            "application/vnd.jupyter.widget-view+json": {
              "model_id": "7415084771054836b453941095ea607c",
              "version_minor": 0,
              "version_major": 2
            },
            "text/plain": [
              "HBox(children=(FloatProgress(value=0.0, description='Optimization Progress', max=84.0, style=ProgressStyle(des…"
            ]
          },
          "metadata": {
            "tags": []
          }
        },
        {
          "output_type": "stream",
          "text": [
            "\n",
            "Generation 1 - Current best internal CV score: 0.7589975384093031\n",
            "Generation 2 - Current best internal CV score: 0.7605890841184959\n",
            "Generation 3 - Current best internal CV score: 0.7605890841184959\n",
            "Generation 4 - Current best internal CV score: 0.7605890841184959\n",
            "\n",
            "Best pipeline: RandomForestClassifier(RandomForestClassifier(input_matrix, criterion=gini, max_depth=670, max_features=log2, min_samples_leaf=4, min_samples_split=14, n_estimators=600), criterion=entropy, max_depth=450, max_features=sqrt, min_samples_leaf=6, min_samples_split=10, n_estimators=1800)\n"
          ],
          "name": "stdout"
        },
        {
          "output_type": "execute_result",
          "data": {
            "text/plain": [
              "TPOTClassifier(config_dict={'sklearn.ensemble.RandomForestClassifier': {'criterion': ['entropy',\n",
              "                                                                                      'gini'],\n",
              "                                                                        'max_depth': [10,\n",
              "                                                                                      120,\n",
              "                                                                                      230,\n",
              "                                                                                      340,\n",
              "                                                                                      450,\n",
              "                                                                                      560,\n",
              "                                                                                      670,\n",
              "                                                                                      780,\n",
              "                                                                                      890,\n",
              "                                                                                      1000],\n",
              "                                                                        'max_features': ['auto',\n",
              "                                                                                         'sqrt',\n",
              "                                                                                         'log2'],\n",
              "                                                                        'min_samples_leaf': [1,\n",
              "                                                                                             2,\n",
              "                                                                                             4,\n",
              "                                                                                             6,\n",
              "                                                                                             8],\n",
              "                                                                        'min_samples_split': [2,\n",
              "                                                                                              5,\n",
              "                                                                                              10,\n",
              "                                                                                              14],\n",
              "                                                                        'n_estimators': [200,\n",
              "                                                                                         400,\n",
              "                                                                                         600,\n",
              "                                                                                         800,\n",
              "                                                                                         1000,\n",
              "                                                                                         1200,\n",
              "                                                                                         1400,\n",
              "                                                                                         1600,\n",
              "                                                                                         1800,\n",
              "                                                                                         2000]}},\n",
              "               crossover_rate=0.1, cv=4, disa...se,\n",
              "               early_stop=12, generations=5,\n",
              "               log_file=<ipykernel.iostream.OutStream object at 0x7f7a60b2db38>,\n",
              "               max_eval_time_mins=5, max_time_mins=None, memory=None,\n",
              "               mutation_rate=0.9, n_jobs=1, offspring_size=12,\n",
              "               periodic_checkpoint_folder=None, population_size=24,\n",
              "               random_state=None, scoring='accuracy', subsample=1.0,\n",
              "               template=None, use_dask=False, verbosity=2, warm_start=False)"
            ]
          },
          "metadata": {
            "tags": []
          },
          "execution_count": 36
        }
      ]
    },
    {
      "cell_type": "code",
      "metadata": {
        "id": "pYlunvSWs4r5",
        "outputId": "b4995ec2-682c-4212-c1b4-41de1008d22f",
        "colab": {
          "base_uri": "https://localhost:8080/",
          "height": 34
        }
      },
      "source": [
        "accuracy = tpot_classifier.score(X_test, y_test)\n",
        "print(accuracy)"
      ],
      "execution_count": 37,
      "outputs": [
        {
          "output_type": "stream",
          "text": [
            "0.8246753246753247\n"
          ],
          "name": "stdout"
        }
      ]
    },
    {
      "cell_type": "markdown",
      "metadata": {
        "id": "rQF7HnAps4sE"
      },
      "source": [
        "### Optimize hyperparameters of the model using Optuna\n",
        "\n",
        "The hyperparameters of the above algorithm are `n_estimators` and `max_depth` for which we can try different values to see if the model accuracy can be improved. The `objective` function is modified to accept a trial object. This trial has several methods for sampling hyperparameters. We create a study to run the hyperparameter optimization and finally read the best hyperparameters."
      ]
    },
    {
      "cell_type": "code",
      "metadata": {
        "id": "FC9npVZeEG2K",
        "outputId": "21488f07-2360-43ac-ab46-b82c26fe64a8",
        "colab": {
          "base_uri": "https://localhost:8080/",
          "height": 1000
        }
      },
      "source": [
        "#Install optuna library\n",
        "!pip install optuna"
      ],
      "execution_count": 43,
      "outputs": [
        {
          "output_type": "stream",
          "text": [
            "Collecting optuna\n",
            "\u001b[?25l  Downloading https://files.pythonhosted.org/packages/67/2b/78129c5580f1743d897214e2d76c20bea8d41c414be6ef1b92c0ce13856e/optuna-2.2.0.tar.gz (246kB)\n",
            "\u001b[K     |████████████████████████████████| 256kB 2.7MB/s \n",
            "\u001b[?25h  Installing build dependencies ... \u001b[?25l\u001b[?25hdone\n",
            "  Getting requirements to build wheel ... \u001b[?25l\u001b[?25hdone\n",
            "    Preparing wheel metadata ... \u001b[?25l\u001b[?25hdone\n",
            "Requirement already satisfied: tqdm in /usr/local/lib/python3.6/dist-packages (from optuna) (4.41.1)\n",
            "Requirement already satisfied: numpy in /usr/local/lib/python3.6/dist-packages (from optuna) (1.18.5)\n",
            "Requirement already satisfied: joblib in /usr/local/lib/python3.6/dist-packages (from optuna) (0.16.0)\n",
            "Collecting cmaes>=0.6.0\n",
            "  Downloading https://files.pythonhosted.org/packages/ee/03/5d15a78ca92ac2bf09f466c54c48bb92979dfe19add2dfed415133ba9792/cmaes-0.6.1-py3-none-any.whl\n",
            "Requirement already satisfied: scipy!=1.4.0 in /usr/local/lib/python3.6/dist-packages (from optuna) (1.4.1)\n",
            "Collecting colorlog\n",
            "  Downloading https://files.pythonhosted.org/packages/2a/81/12d77537c82c5d46aa2721dfee25a0e873ef5920ebd0827152f411effb57/colorlog-4.2.1-py2.py3-none-any.whl\n",
            "Requirement already satisfied: packaging>=20.0 in /usr/local/lib/python3.6/dist-packages (from optuna) (20.4)\n",
            "Requirement already satisfied: sqlalchemy>=1.1.0 in /usr/local/lib/python3.6/dist-packages (from optuna) (1.3.19)\n",
            "Collecting alembic\n",
            "\u001b[?25l  Downloading https://files.pythonhosted.org/packages/12/aa/c261dfd7f4ba6ce4701846a2689a46e2a172e012171de4378fc2926e3bf0/alembic-1.4.3-py2.py3-none-any.whl (159kB)\n",
            "\u001b[K     |████████████████████████████████| 163kB 8.5MB/s \n",
            "\u001b[?25hCollecting cliff\n",
            "\u001b[?25l  Downloading https://files.pythonhosted.org/packages/71/06/03b1f92d46546a18eabf33ff7f37ef422c18c93d5a926bf590fee32ebe75/cliff-3.4.0-py3-none-any.whl (76kB)\n",
            "\u001b[K     |████████████████████████████████| 81kB 6.1MB/s \n",
            "\u001b[?25hRequirement already satisfied: pyparsing>=2.0.2 in /usr/local/lib/python3.6/dist-packages (from packaging>=20.0->optuna) (2.4.7)\n",
            "Requirement already satisfied: six in /usr/local/lib/python3.6/dist-packages (from packaging>=20.0->optuna) (1.15.0)\n",
            "Collecting python-editor>=0.3\n",
            "  Downloading https://files.pythonhosted.org/packages/c6/d3/201fc3abe391bbae6606e6f1d598c15d367033332bd54352b12f35513717/python_editor-1.0.4-py3-none-any.whl\n",
            "Requirement already satisfied: python-dateutil in /usr/local/lib/python3.6/dist-packages (from alembic->optuna) (2.8.1)\n",
            "Collecting Mako\n",
            "\u001b[?25l  Downloading https://files.pythonhosted.org/packages/a6/37/0e706200d22172eb8fa17d68a7ae22dec7631a0a92266634fb518a88a5b2/Mako-1.1.3-py2.py3-none-any.whl (75kB)\n",
            "\u001b[K     |████████████████████████████████| 81kB 6.7MB/s \n",
            "\u001b[?25hRequirement already satisfied: PyYAML>=3.12 in /usr/local/lib/python3.6/dist-packages (from cliff->optuna) (3.13)\n",
            "Collecting cmd2!=0.8.3,>=0.8.0\n",
            "\u001b[?25l  Downloading https://files.pythonhosted.org/packages/c6/94/0f4f16cff4977188d715a95ea3f90f054b7eb73b05afaf51431a3d77b992/cmd2-1.3.11-py3-none-any.whl (133kB)\n",
            "\u001b[K     |████████████████████████████████| 143kB 10.5MB/s \n",
            "\u001b[?25hCollecting stevedore>=2.0.1\n",
            "\u001b[?25l  Downloading https://files.pythonhosted.org/packages/b8/a1/004f04ba411a8002b02aadb089fd6868116c12ddc9f6d576175e89d07587/stevedore-3.2.2-py3-none-any.whl (42kB)\n",
            "\u001b[K     |████████████████████████████████| 51kB 5.4MB/s \n",
            "\u001b[?25hRequirement already satisfied: PrettyTable<0.8,>=0.7.2 in /usr/local/lib/python3.6/dist-packages (from cliff->optuna) (0.7.2)\n",
            "Collecting pbr!=2.1.0,>=2.0.0\n",
            "\u001b[?25l  Downloading https://files.pythonhosted.org/packages/c1/a3/d439f338aa90edd5ad9096cd56564b44882182150e92148eb14ceb7488ba/pbr-5.5.0-py2.py3-none-any.whl (106kB)\n",
            "\u001b[K     |████████████████████████████████| 112kB 12.6MB/s \n",
            "\u001b[?25hRequirement already satisfied: MarkupSafe>=0.9.2 in /usr/local/lib/python3.6/dist-packages (from Mako->alembic->optuna) (1.1.1)\n",
            "Collecting pyperclip>=1.6\n",
            "  Downloading https://files.pythonhosted.org/packages/f6/5b/55866e1cde0f86f5eec59dab5de8a66628cb0d53da74b8dbc15ad8dabda3/pyperclip-1.8.0.tar.gz\n",
            "Collecting colorama>=0.3.7\n",
            "  Downloading https://files.pythonhosted.org/packages/c9/dc/45cdef1b4d119eb96316b3117e6d5708a08029992b2fee2c143c7a0a5cc5/colorama-0.4.3-py2.py3-none-any.whl\n",
            "Requirement already satisfied: setuptools>=34.4 in /usr/local/lib/python3.6/dist-packages (from cmd2!=0.8.3,>=0.8.0->cliff->optuna) (50.3.0)\n",
            "Requirement already satisfied: wcwidth>=0.1.7 in /usr/local/lib/python3.6/dist-packages (from cmd2!=0.8.3,>=0.8.0->cliff->optuna) (0.2.5)\n",
            "Requirement already satisfied: attrs>=16.3.0 in /usr/local/lib/python3.6/dist-packages (from cmd2!=0.8.3,>=0.8.0->cliff->optuna) (20.2.0)\n",
            "Requirement already satisfied: importlib-metadata>=1.6.0; python_version < \"3.8\" in /usr/local/lib/python3.6/dist-packages (from cmd2!=0.8.3,>=0.8.0->cliff->optuna) (2.0.0)\n",
            "Requirement already satisfied: zipp>=0.5 in /usr/local/lib/python3.6/dist-packages (from importlib-metadata>=1.6.0; python_version < \"3.8\"->cmd2!=0.8.3,>=0.8.0->cliff->optuna) (3.2.0)\n",
            "Building wheels for collected packages: optuna\n",
            "  Building wheel for optuna (PEP 517) ... \u001b[?25l\u001b[?25hdone\n",
            "  Created wheel for optuna: filename=optuna-2.2.0-cp36-none-any.whl size=340928 sha256=34e0e63d30a0451b5ec375580d300dcc4777e12465e45856e824af8d8af9d557\n",
            "  Stored in directory: /root/.cache/pip/wheels/a6/27/26/3ef57a8fb2c8bceef3f4ece73483cec1895e06eae442d34a41\n",
            "Successfully built optuna\n",
            "Building wheels for collected packages: pyperclip\n",
            "  Building wheel for pyperclip (setup.py) ... \u001b[?25l\u001b[?25hdone\n",
            "  Created wheel for pyperclip: filename=pyperclip-1.8.0-cp36-none-any.whl size=8693 sha256=21514bb6a7f71a54a611e59110f353bbc960cc28231d2f4761e1ca1cd94bcbe0\n",
            "  Stored in directory: /root/.cache/pip/wheels/b2/ac/0a/b784f0afe26eaf52e88a7e15c7369090deea0354fa1c6fc689\n",
            "Successfully built pyperclip\n",
            "Installing collected packages: cmaes, colorlog, python-editor, Mako, alembic, pyperclip, colorama, cmd2, pbr, stevedore, cliff, optuna\n",
            "Successfully installed Mako-1.1.3 alembic-1.4.3 cliff-3.4.0 cmaes-0.6.1 cmd2-1.3.11 colorama-0.4.3 colorlog-4.2.1 optuna-2.2.0 pbr-5.5.0 pyperclip-1.8.0 python-editor-1.0.4 stevedore-3.2.2\n"
          ],
          "name": "stdout"
        }
      ]
    },
    {
      "cell_type": "code",
      "metadata": {
        "id": "7kAxhDdus4sF"
      },
      "source": [
        "import optuna\n",
        "import sklearn.svm\n",
        "def objective(trial):\n",
        "\n",
        "    classifier = trial.suggest_categorical('classifier', ['RandomForest', 'SVC'])\n",
        "    \n",
        "    if classifier == 'RandomForest':\n",
        "        n_estimators = trial.suggest_int('n_estimators', 200, 2000,10)\n",
        "        max_depth = int(trial.suggest_float('max_depth', 10, 100, log=True))\n",
        "\n",
        "        clf = sklearn.ensemble.RandomForestClassifier(\n",
        "            n_estimators=n_estimators, max_depth=max_depth)\n",
        "    else:\n",
        "        c = trial.suggest_float('svc_c', 1e-10, 1e10, log=True)\n",
        "        \n",
        "        clf = sklearn.svm.SVC(C=c, gamma='auto')\n",
        "\n",
        "    return sklearn.model_selection.cross_val_score(\n",
        "        clf,X_train,y_train, n_jobs=-1, cv=3).mean()\n"
      ],
      "execution_count": 44,
      "outputs": []
    },
    {
      "cell_type": "code",
      "metadata": {
        "id": "rlEoSeBDs4sc",
        "outputId": "bc4a86df-8ee7-4476-a6f4-e81e22d97bff",
        "colab": {
          "base_uri": "https://localhost:8080/",
          "height": 1000
        }
      },
      "source": [
        "study = optuna.create_study(direction='maximize')\n",
        "study.optimize(objective, n_trials=100)\n",
        "\n",
        "trial = study.best_trial\n",
        "\n",
        "print('Accuracy: {}'.format(trial.value))\n",
        "print(\"Best hyperparameters: {}\".format(trial.params))"
      ],
      "execution_count": 45,
      "outputs": [
        {
          "output_type": "stream",
          "text": [
            "[I 2020-10-05 18:42:39,524] A new study created in memory with name: no-name-79adeb53-d790-495f-bf97-d1e5941d3586\n",
            "[I 2020-10-05 18:42:40,814] Trial 0 finished with value: 0.640068547744301 and parameters: {'classifier': 'SVC', 'svc_c': 612163781.0749812}. Best is trial 0 with value: 0.640068547744301.\n",
            "[I 2020-10-05 18:42:46,187] Trial 1 finished with value: 0.7540411286465806 and parameters: {'classifier': 'RandomForest', 'n_estimators': 1190, 'max_depth': 73.96411327804137}. Best is trial 1 with value: 0.7540411286465806.\n",
            "[I 2020-10-05 18:42:46,241] Trial 2 finished with value: 0.640068547744301 and parameters: {'classifier': 'SVC', 'svc_c': 0.00013839644417413846}. Best is trial 1 with value: 0.7540411286465806.\n",
            "[I 2020-10-05 18:42:46,313] Trial 3 finished with value: 0.640068547744301 and parameters: {'classifier': 'SVC', 'svc_c': 1162886157.7499561}. Best is trial 1 with value: 0.7540411286465806.\n",
            "[I 2020-10-05 18:42:46,380] Trial 4 finished with value: 0.640068547744301 and parameters: {'classifier': 'SVC', 'svc_c': 1161.7194752213582}. Best is trial 1 with value: 0.7540411286465806.\n",
            "[I 2020-10-05 18:42:48,994] Trial 5 finished with value: 0.7491710505340348 and parameters: {'classifier': 'RandomForest', 'n_estimators': 590, 'max_depth': 19.575174071189483}. Best is trial 1 with value: 0.7540411286465806.\n",
            "[I 2020-10-05 18:42:49,042] Trial 6 finished with value: 0.640068547744301 and parameters: {'classifier': 'SVC', 'svc_c': 1.50278458602325e-08}. Best is trial 1 with value: 0.7540411286465806.\n",
            "[I 2020-10-05 18:42:49,091] Trial 7 finished with value: 0.640068547744301 and parameters: {'classifier': 'SVC', 'svc_c': 1.3572767331746497e-09}. Best is trial 1 with value: 0.7540411286465806.\n",
            "[I 2020-10-05 18:42:52,512] Trial 8 finished with value: 0.7540570699824646 and parameters: {'classifier': 'RandomForest', 'n_estimators': 770, 'max_depth': 45.86978032753656}. Best is trial 8 with value: 0.7540570699824646.\n",
            "[I 2020-10-05 18:42:52,577] Trial 9 finished with value: 0.640068547744301 and parameters: {'classifier': 'SVC', 'svc_c': 204804938.147921}. Best is trial 8 with value: 0.7540570699824646.\n",
            "[I 2020-10-05 18:42:53,647] Trial 10 finished with value: 0.7475450342738722 and parameters: {'classifier': 'RandomForest', 'n_estimators': 240, 'max_depth': 54.77745659349623}. Best is trial 8 with value: 0.7540570699824646.\n",
            "[I 2020-10-05 18:43:00,431] Trial 11 finished with value: 0.7491790212019768 and parameters: {'classifier': 'RandomForest', 'n_estimators': 1540, 'max_depth': 91.28904509027696}. Best is trial 8 with value: 0.7540570699824646.\n",
            "[I 2020-10-05 18:43:05,003] Trial 12 finished with value: 0.7540490993145226 and parameters: {'classifier': 'RandomForest', 'n_estimators': 1040, 'max_depth': 48.88353307556838}. Best is trial 8 with value: 0.7540570699824646.\n",
            "[I 2020-10-05 18:43:08,666] Trial 13 finished with value: 0.7507970667941973 and parameters: {'classifier': 'RandomForest', 'n_estimators': 830, 'max_depth': 35.87913007740799}. Best is trial 8 with value: 0.7540570699824646.\n",
            "[I 2020-10-05 18:43:13,794] Trial 14 finished with value: 0.7491630798660928 and parameters: {'classifier': 'RandomForest', 'n_estimators': 1170, 'max_depth': 45.77938155610592}. Best is trial 8 with value: 0.7540570699824646.\n",
            "[I 2020-10-05 18:43:16,470] Trial 15 finished with value: 0.7475450342738722 and parameters: {'classifier': 'RandomForest', 'n_estimators': 610, 'max_depth': 20.99582082410873}. Best is trial 8 with value: 0.7540570699824646.\n",
            "[I 2020-10-05 18:43:24,798] Trial 16 finished with value: 0.7540570699824646 and parameters: {'classifier': 'RandomForest', 'n_estimators': 1910, 'max_depth': 10.162854516407021}. Best is trial 8 with value: 0.7540570699824646.\n",
            "[I 2020-10-05 18:43:33,003] Trial 17 finished with value: 0.7524310537223019 and parameters: {'classifier': 'RandomForest', 'n_estimators': 1890, 'max_depth': 10.592043782835987}. Best is trial 8 with value: 0.7540570699824646.\n",
            "[I 2020-10-05 18:43:41,669] Trial 18 finished with value: 0.7491790212019768 and parameters: {'classifier': 'RandomForest', 'n_estimators': 2000, 'max_depth': 10.16377341059989}. Best is trial 8 with value: 0.7540570699824646.\n",
            "[I 2020-10-05 18:43:48,166] Trial 19 finished with value: 0.75242308305436 and parameters: {'classifier': 'RandomForest', 'n_estimators': 1480, 'max_depth': 25.04864186349428}. Best is trial 8 with value: 0.7540570699824646.\n",
            "[I 2020-10-05 18:43:49,246] Trial 20 finished with value: 0.7426669854933844 and parameters: {'classifier': 'RandomForest', 'n_estimators': 230, 'max_depth': 15.942408017436293}. Best is trial 8 with value: 0.7540570699824646.\n",
            "[I 2020-10-05 18:43:53,488] Trial 21 finished with value: 0.7540490993145226 and parameters: {'classifier': 'RandomForest', 'n_estimators': 950, 'max_depth': 52.76434157860119}. Best is trial 8 with value: 0.7540570699824646.\n",
            "[I 2020-10-05 18:43:56,883] Trial 22 finished with value: 0.7491790212019768 and parameters: {'classifier': 'RandomForest', 'n_estimators': 770, 'max_depth': 65.52361391317721}. Best is trial 8 with value: 0.7540570699824646.\n",
            "[I 2020-10-05 18:44:03,071] Trial 23 finished with value: 0.7475450342738722 and parameters: {'classifier': 'RandomForest', 'n_estimators': 1400, 'max_depth': 40.00993585624353}. Best is trial 8 with value: 0.7540570699824646.\n",
            "[I 2020-10-05 18:44:07,107] Trial 24 finished with value: 0.7459110473457676 and parameters: {'classifier': 'RandomForest', 'n_estimators': 920, 'max_depth': 31.052898106275013}. Best is trial 8 with value: 0.7540570699824646.\n",
            "[I 2020-10-05 18:44:09,179] Trial 25 finished with value: 0.7394149529730591 and parameters: {'classifier': 'RandomForest', 'n_estimators': 470, 'max_depth': 29.646120907708926}. Best is trial 8 with value: 0.7540570699824646.\n",
            "[I 2020-10-05 18:44:17,061] Trial 26 finished with value: 0.75242308305436 and parameters: {'classifier': 'RandomForest', 'n_estimators': 1800, 'max_depth': 62.51531435623698}. Best is trial 8 with value: 0.7540570699824646.\n",
            "[I 2020-10-05 18:44:21,550] Trial 27 finished with value: 0.7507890961262554 and parameters: {'classifier': 'RandomForest', 'n_estimators': 1010, 'max_depth': 91.70196738252056}. Best is trial 8 with value: 0.7540570699824646.\n",
            "[I 2020-10-05 18:44:24,606] Trial 28 finished with value: 0.7508130081300813 and parameters: {'classifier': 'RandomForest', 'n_estimators': 700, 'max_depth': 13.344234940514722}. Best is trial 8 with value: 0.7540570699824646.\n",
            "[I 2020-10-05 18:44:26,629] Trial 29 finished with value: 0.7491790212019768 and parameters: {'classifier': 'RandomForest', 'n_estimators': 460, 'max_depth': 41.512594607174165}. Best is trial 8 with value: 0.7540570699824646.\n",
            "[I 2020-10-05 18:44:32,174] Trial 30 finished with value: 0.7491710505340348 and parameters: {'classifier': 'RandomForest', 'n_estimators': 1260, 'max_depth': 73.45368580983903}. Best is trial 8 with value: 0.7540570699824646.\n",
            "[I 2020-10-05 18:44:36,634] Trial 31 finished with value: 0.7475450342738722 and parameters: {'classifier': 'RandomForest', 'n_estimators': 1010, 'max_depth': 47.67334443088857}. Best is trial 8 with value: 0.7540570699824646.\n",
            "[I 2020-10-05 18:44:40,756] Trial 32 finished with value: 0.744293001753547 and parameters: {'classifier': 'RandomForest', 'n_estimators': 940, 'max_depth': 53.29201270397504}. Best is trial 8 with value: 0.7540570699824646.\n",
            "[I 2020-10-05 18:44:46,653] Trial 33 finished with value: 0.7491790212019768 and parameters: {'classifier': 'RandomForest', 'n_estimators': 1350, 'max_depth': 37.97227410229302}. Best is trial 8 with value: 0.7540570699824646.\n",
            "[I 2020-10-05 18:44:51,313] Trial 34 finished with value: 0.7556830862426271 and parameters: {'classifier': 'RandomForest', 'n_estimators': 1060, 'max_depth': 51.09131364412884}. Best is trial 34 with value: 0.7556830862426271.\n",
            "[I 2020-10-05 18:44:55,084] Trial 35 finished with value: 0.7508050374621393 and parameters: {'classifier': 'RandomForest', 'n_estimators': 850, 'max_depth': 59.19374486952776}. Best is trial 34 with value: 0.7556830862426271.\n",
            "[I 2020-10-05 18:45:02,234] Trial 36 finished with value: 0.7459269886816515 and parameters: {'classifier': 'RandomForest', 'n_estimators': 1630, 'max_depth': 34.53919758111063}. Best is trial 34 with value: 0.7556830862426271.\n",
            "[I 2020-10-05 18:45:07,489] Trial 37 finished with value: 0.7508130081300813 and parameters: {'classifier': 'RandomForest', 'n_estimators': 1200, 'max_depth': 75.23563068555633}. Best is trial 34 with value: 0.7556830862426271.\n",
            "[I 2020-10-05 18:45:07,559] Trial 38 finished with value: 0.640068547744301 and parameters: {'classifier': 'SVC', 'svc_c': 88.02075096428318}. Best is trial 34 with value: 0.7556830862426271.\n",
            "[I 2020-10-05 18:45:12,415] Trial 39 finished with value: 0.75242308305436 and parameters: {'classifier': 'RandomForest', 'n_estimators': 1110, 'max_depth': 75.0292579376687}. Best is trial 34 with value: 0.7556830862426271.\n",
            "[I 2020-10-05 18:45:12,468] Trial 40 finished with value: 0.640068547744301 and parameters: {'classifier': 'SVC', 'svc_c': 0.0004502454761045255}. Best is trial 34 with value: 0.7556830862426271.\n",
            "[I 2020-10-05 18:45:17,204] Trial 41 finished with value: 0.7459269886816515 and parameters: {'classifier': 'RandomForest', 'n_estimators': 1070, 'max_depth': 48.645783096935055}. Best is trial 34 with value: 0.7556830862426271.\n",
            "[I 2020-10-05 18:45:20,237] Trial 42 finished with value: 0.744293001753547 and parameters: {'classifier': 'RandomForest', 'n_estimators': 690, 'max_depth': 43.83985648955167}. Best is trial 34 with value: 0.7556830862426271.\n",
            "[I 2020-10-05 18:45:24,242] Trial 43 finished with value: 0.7491710505340348 and parameters: {'classifier': 'RandomForest', 'n_estimators': 910, 'max_depth': 52.396964596776854}. Best is trial 34 with value: 0.7556830862426271.\n",
            "[I 2020-10-05 18:45:29,960] Trial 44 finished with value: 0.7491790212019768 and parameters: {'classifier': 'RandomForest', 'n_estimators': 1300, 'max_depth': 60.38561651283115}. Best is trial 34 with value: 0.7556830862426271.\n",
            "[I 2020-10-05 18:45:34,847] Trial 45 finished with value: 0.7540730113183485 and parameters: {'classifier': 'RandomForest', 'n_estimators': 1110, 'max_depth': 68.66433827798541}. Best is trial 34 with value: 0.7556830862426271.\n",
            "[I 2020-10-05 18:45:36,901] Trial 46 finished with value: 0.7410409692332217 and parameters: {'classifier': 'RandomForest', 'n_estimators': 460, 'max_depth': 99.98273060552262}. Best is trial 34 with value: 0.7556830862426271.\n",
            "[I 2020-10-05 18:45:36,971] Trial 47 finished with value: 0.640068547744301 and parameters: {'classifier': 'SVC', 'svc_c': 43873.47085088257}. Best is trial 34 with value: 0.7556830862426271.\n",
            "[I 2020-10-05 18:45:40,357] Trial 48 finished with value: 0.7491790212019768 and parameters: {'classifier': 'RandomForest', 'n_estimators': 770, 'max_depth': 67.69162559948151}. Best is trial 34 with value: 0.7556830862426271.\n",
            "[I 2020-10-05 18:45:45,379] Trial 49 finished with value: 0.7443169137573729 and parameters: {'classifier': 'RandomForest', 'n_estimators': 1150, 'max_depth': 80.46426472770017}. Best is trial 34 with value: 0.7556830862426271.\n",
            "[I 2020-10-05 18:45:47,949] Trial 50 finished with value: 0.7556830862426271 and parameters: {'classifier': 'RandomForest', 'n_estimators': 580, 'max_depth': 55.12217751234574}. Best is trial 34 with value: 0.7556830862426271.\n",
            "[I 2020-10-05 18:45:49,468] Trial 51 finished with value: 0.7426430734895585 and parameters: {'classifier': 'RandomForest', 'n_estimators': 340, 'max_depth': 56.11091602908486}. Best is trial 34 with value: 0.7556830862426271.\n",
            "[I 2020-10-05 18:45:51,963] Trial 52 finished with value: 0.7475689462776981 and parameters: {'classifier': 'RandomForest', 'n_estimators': 560, 'max_depth': 51.02831236948907}. Best is trial 34 with value: 0.7556830862426271.\n",
            "[I 2020-10-05 18:45:54,825] Trial 53 finished with value: 0.7573250438386737 and parameters: {'classifier': 'RandomForest', 'n_estimators': 650, 'max_depth': 67.23131911500545}. Best is trial 53 with value: 0.7573250438386737.\n",
            "[I 2020-10-05 18:45:57,528] Trial 54 finished with value: 0.7442770604176631 and parameters: {'classifier': 'RandomForest', 'n_estimators': 610, 'max_depth': 81.68221840265124}. Best is trial 53 with value: 0.7573250438386737.\n",
            "[I 2020-10-05 18:45:59,019] Trial 55 finished with value: 0.7573250438386737 and parameters: {'classifier': 'RandomForest', 'n_estimators': 330, 'max_depth': 70.38909379533598}. Best is trial 53 with value: 0.7573250438386737.\n",
            "[I 2020-10-05 18:46:00,450] Trial 56 finished with value: 0.7508130081300813 and parameters: {'classifier': 'RandomForest', 'n_estimators': 320, 'max_depth': 82.59715116188487}. Best is trial 53 with value: 0.7573250438386737.\n",
            "[I 2020-10-05 18:46:02,806] Trial 57 finished with value: 0.7491551091981509 and parameters: {'classifier': 'RandomForest', 'n_estimators': 530, 'max_depth': 69.49742752897082}. Best is trial 53 with value: 0.7573250438386737.\n",
            "[I 2020-10-05 18:46:04,427] Trial 58 finished with value: 0.7475290929379882 and parameters: {'classifier': 'RandomForest', 'n_estimators': 360, 'max_depth': 94.81952839626572}. Best is trial 53 with value: 0.7573250438386737.\n",
            "[I 2020-10-05 18:46:07,364] Trial 59 finished with value: 0.7491790212019768 and parameters: {'classifier': 'RandomForest', 'n_estimators': 670, 'max_depth': 58.75805414964593}. Best is trial 53 with value: 0.7573250438386737.\n",
            "[I 2020-10-05 18:46:07,426] Trial 60 finished with value: 0.640068547744301 and parameters: {'classifier': 'SVC', 'svc_c': 0.0018894654652978709}. Best is trial 53 with value: 0.7573250438386737.\n",
            "[I 2020-10-05 18:46:11,075] Trial 61 finished with value: 0.7459190180137095 and parameters: {'classifier': 'RandomForest', 'n_estimators': 820, 'max_depth': 65.93007132198792}. Best is trial 53 with value: 0.7573250438386737.\n",
            "[I 2020-10-05 18:46:12,037] Trial 62 finished with value: 0.744300972421489 and parameters: {'classifier': 'RandomForest', 'n_estimators': 210, 'max_depth': 44.13526847295992}. Best is trial 53 with value: 0.7573250438386737.\n",
            "[I 2020-10-05 18:46:19,164] Trial 63 finished with value: 0.7508130081300813 and parameters: {'classifier': 'RandomForest', 'n_estimators': 1600, 'max_depth': 64.0517144642545}. Best is trial 53 with value: 0.7573250438386737.\n",
            "[I 2020-10-05 18:46:22,059] Trial 64 finished with value: 0.7459269886816515 and parameters: {'classifier': 'RandomForest', 'n_estimators': 650, 'max_depth': 57.04084057256699}. Best is trial 53 with value: 0.7573250438386737.\n",
            "[I 2020-10-05 18:46:25,555] Trial 65 finished with value: 0.75242308305436 and parameters: {'classifier': 'RandomForest', 'n_estimators': 780, 'max_depth': 27.374672064104903}. Best is trial 53 with value: 0.7573250438386737.\n",
            "[I 2020-10-05 18:46:27,444] Trial 66 finished with value: 0.7459190180137095 and parameters: {'classifier': 'RandomForest', 'n_estimators': 420, 'max_depth': 70.07947104872356}. Best is trial 53 with value: 0.7573250438386737.\n",
            "[I 2020-10-05 18:46:29,846] Trial 67 finished with value: 0.744293001753547 and parameters: {'classifier': 'RandomForest', 'n_estimators': 530, 'max_depth': 22.637175469377084}. Best is trial 53 with value: 0.7573250438386737.\n",
            "[I 2020-10-05 18:46:38,116] Trial 68 finished with value: 0.75242308305436 and parameters: {'classifier': 'RandomForest', 'n_estimators': 1870, 'max_depth': 85.88580452509666}. Best is trial 53 with value: 0.7573250438386737.\n",
            "[I 2020-10-05 18:46:41,963] Trial 69 finished with value: 0.75242308305436 and parameters: {'classifier': 'RandomForest', 'n_estimators': 870, 'max_depth': 12.63986378597349}. Best is trial 53 with value: 0.7573250438386737.\n",
            "[I 2020-10-05 18:46:45,197] Trial 70 finished with value: 0.7491790212019768 and parameters: {'classifier': 'RandomForest', 'n_estimators': 740, 'max_depth': 47.949520894234176}. Best is trial 53 with value: 0.7573250438386737.\n",
            "[I 2020-10-05 18:46:49,550] Trial 71 finished with value: 0.7507970667941973 and parameters: {'classifier': 'RandomForest', 'n_estimators': 990, 'max_depth': 52.75957070494769}. Best is trial 53 with value: 0.7573250438386737.\n",
            "[I 2020-10-05 18:46:55,986] Trial 72 finished with value: 0.7475530049418141 and parameters: {'classifier': 'RandomForest', 'n_estimators': 1470, 'max_depth': 34.07293967721506}. Best is trial 53 with value: 0.7573250438386737.\n",
            "[I 2020-10-05 18:47:00,038] Trial 73 finished with value: 0.7507970667941973 and parameters: {'classifier': 'RandomForest', 'n_estimators': 920, 'max_depth': 40.04319754494144}. Best is trial 53 with value: 0.7573250438386737.\n",
            "[I 2020-10-05 18:47:04,397] Trial 74 finished with value: 0.7491710505340348 and parameters: {'classifier': 'RandomForest', 'n_estimators': 980, 'max_depth': 55.25989522255158}. Best is trial 53 with value: 0.7573250438386737.\n",
            "[I 2020-10-05 18:47:05,615] Trial 75 finished with value: 0.7556910569105691 and parameters: {'classifier': 'RandomForest', 'n_estimators': 270, 'max_depth': 64.34667278283654}. Best is trial 53 with value: 0.7573250438386737.\n",
            "[I 2020-10-05 18:47:07,008] Trial 76 finished with value: 0.7508130081300813 and parameters: {'classifier': 'RandomForest', 'n_estimators': 310, 'max_depth': 63.74326369959232}. Best is trial 53 with value: 0.7573250438386737.\n",
            "[I 2020-10-05 18:47:08,177] Trial 77 finished with value: 0.7508050374621393 and parameters: {'classifier': 'RandomForest', 'n_estimators': 260, 'max_depth': 75.70736077062695}. Best is trial 53 with value: 0.7573250438386737.\n",
            "[I 2020-10-05 18:47:10,010] Trial 78 finished with value: 0.7507890961262554 and parameters: {'classifier': 'RandomForest', 'n_estimators': 410, 'max_depth': 61.93331335668906}. Best is trial 53 with value: 0.7573250438386737.\n",
            "[I 2020-10-05 18:47:17,556] Trial 79 finished with value: 0.7524469950581859 and parameters: {'classifier': 'RandomForest', 'n_estimators': 1710, 'max_depth': 45.16370515839959}. Best is trial 53 with value: 0.7573250438386737.\n",
            "[I 2020-10-05 18:47:26,239] Trial 80 finished with value: 0.7524310537223019 and parameters: {'classifier': 'RandomForest', 'n_estimators': 1980, 'max_depth': 87.89759255422346}. Best is trial 53 with value: 0.7573250438386737.\n",
            "[I 2020-10-05 18:47:31,117] Trial 81 finished with value: 0.7508130081300813 and parameters: {'classifier': 'RandomForest', 'n_estimators': 1110, 'max_depth': 71.3337081500147}. Best is trial 53 with value: 0.7573250438386737.\n",
            "[I 2020-10-05 18:47:33,840] Trial 82 finished with value: 0.7540490993145226 and parameters: {'classifier': 'RandomForest', 'n_estimators': 610, 'max_depth': 51.78135850019061}. Best is trial 53 with value: 0.7573250438386737.\n",
            "[I 2020-10-05 18:47:36,595] Trial 83 finished with value: 0.744293001753547 and parameters: {'classifier': 'RandomForest', 'n_estimators': 620, 'max_depth': 17.9508980686685}. Best is trial 53 with value: 0.7573250438386737.\n",
            "[I 2020-10-05 18:47:39,768] Trial 84 finished with value: 0.744293001753547 and parameters: {'classifier': 'RandomForest', 'n_estimators': 720, 'max_depth': 59.80641911109132}. Best is trial 53 with value: 0.7573250438386737.\n",
            "[I 2020-10-05 18:47:44,345] Trial 85 finished with value: 0.7491790212019768 and parameters: {'classifier': 'RandomForest', 'n_estimators': 1040, 'max_depth': 55.98211025515967}. Best is trial 53 with value: 0.7573250438386737.\n",
            "[I 2020-10-05 18:47:46,644] Trial 86 finished with value: 0.7507970667941973 and parameters: {'classifier': 'RandomForest', 'n_estimators': 520, 'max_depth': 49.89897390728899}. Best is trial 53 with value: 0.7573250438386737.\n",
            "[I 2020-10-05 18:47:50,307] Trial 87 finished with value: 0.7540570699824646 and parameters: {'classifier': 'RandomForest', 'n_estimators': 840, 'max_depth': 77.99384932688913}. Best is trial 53 with value: 0.7573250438386737.\n",
            "[I 2020-10-05 18:47:50,374] Trial 88 finished with value: 0.640068547744301 and parameters: {'classifier': 'SVC', 'svc_c': 655969.2389663842}. Best is trial 53 with value: 0.7573250438386737.\n",
            "[I 2020-10-05 18:47:53,941] Trial 89 finished with value: 0.7540570699824646 and parameters: {'classifier': 'RandomForest', 'n_estimators': 810, 'max_depth': 78.58481988607147}. Best is trial 53 with value: 0.7573250438386737.\n",
            "[I 2020-10-05 18:47:55,142] Trial 90 finished with value: 0.744285031085605 and parameters: {'classifier': 'RandomForest', 'n_estimators': 270, 'max_depth': 67.05108165545732}. Best is trial 53 with value: 0.7573250438386737.\n",
            "[I 2020-10-05 18:47:58,669] Trial 91 finished with value: 0.752415112386418 and parameters: {'classifier': 'RandomForest', 'n_estimators': 800, 'max_depth': 77.33398249289718}. Best is trial 53 with value: 0.7573250438386737.\n",
            "[I 2020-10-05 18:48:02,522] Trial 92 finished with value: 0.7475609756097561 and parameters: {'classifier': 'RandomForest', 'n_estimators': 880, 'max_depth': 95.47799963791101}. Best is trial 53 with value: 0.7573250438386737.\n",
            "[I 2020-10-05 18:48:05,739] Trial 93 finished with value: 0.7556910569105691 and parameters: {'classifier': 'RandomForest', 'n_estimators': 730, 'max_depth': 78.96688410304446}. Best is trial 53 with value: 0.7573250438386737.\n",
            "[I 2020-10-05 18:48:09,403] Trial 94 finished with value: 0.7491869918699187 and parameters: {'classifier': 'RandomForest', 'n_estimators': 840, 'max_depth': 79.23412010245939}. Best is trial 53 with value: 0.7573250438386737.\n",
            "[I 2020-10-05 18:48:12,628] Trial 95 finished with value: 0.7524469950581859 and parameters: {'classifier': 'RandomForest', 'n_estimators': 740, 'max_depth': 72.52514232794117}. Best is trial 53 with value: 0.7573250438386737.\n",
            "[I 2020-10-05 18:48:17,706] Trial 96 finished with value: 0.7540650406504065 and parameters: {'classifier': 'RandomForest', 'n_estimators': 1160, 'max_depth': 86.0689886331693}. Best is trial 53 with value: 0.7573250438386737.\n",
            "[I 2020-10-05 18:48:22,935] Trial 97 finished with value: 0.7540411286465806 and parameters: {'classifier': 'RandomForest', 'n_estimators': 1200, 'max_depth': 87.7979270762185}. Best is trial 53 with value: 0.7573250438386737.\n",
            "[I 2020-10-05 18:48:27,503] Trial 98 finished with value: 0.75242308305436 and parameters: {'classifier': 'RandomForest', 'n_estimators': 1050, 'max_depth': 81.84667199765128}. Best is trial 53 with value: 0.7573250438386737.\n",
            "[I 2020-10-05 18:48:32,981] Trial 99 finished with value: 0.7491869918699187 and parameters: {'classifier': 'RandomForest', 'n_estimators': 1250, 'max_depth': 62.76435687822314}. Best is trial 53 with value: 0.7573250438386737.\n"
          ],
          "name": "stderr"
        },
        {
          "output_type": "stream",
          "text": [
            "Accuracy: 0.7573250438386737\n",
            "Best hyperparameters: {'classifier': 'RandomForest', 'n_estimators': 650, 'max_depth': 67.23131911500545}\n"
          ],
          "name": "stdout"
        }
      ]
    },
    {
      "cell_type": "code",
      "metadata": {
        "id": "kveOLSPUs4so",
        "outputId": "e3be59b5-02e0-4d94-a7f3-0631c733f27a",
        "colab": {
          "base_uri": "https://localhost:8080/",
          "height": 54
        }
      },
      "source": [
        "trial"
      ],
      "execution_count": 46,
      "outputs": [
        {
          "output_type": "execute_result",
          "data": {
            "text/plain": [
              "FrozenTrial(number=53, value=0.7573250438386737, datetime_start=datetime.datetime(2020, 10, 5, 18, 45, 51, 968606), datetime_complete=datetime.datetime(2020, 10, 5, 18, 45, 54, 824806), params={'classifier': 'RandomForest', 'n_estimators': 650, 'max_depth': 67.23131911500545}, distributions={'classifier': CategoricalDistribution(choices=('RandomForest', 'SVC')), 'n_estimators': IntUniformDistribution(high=2000, low=200, step=10), 'max_depth': LogUniformDistribution(high=100, low=10)}, user_attrs={}, system_attrs={}, intermediate_values={}, trial_id=53, state=TrialState.COMPLETE)"
            ]
          },
          "metadata": {
            "tags": []
          },
          "execution_count": 46
        }
      ]
    },
    {
      "cell_type": "code",
      "metadata": {
        "id": "BiGX2ggQs4sw",
        "outputId": "30d52a95-8868-4f11-e704-c5a6aebb1289",
        "colab": {
          "base_uri": "https://localhost:8080/",
          "height": 68
        }
      },
      "source": [
        "study.best_params"
      ],
      "execution_count": 47,
      "outputs": [
        {
          "output_type": "execute_result",
          "data": {
            "text/plain": [
              "{'classifier': 'RandomForest',\n",
              " 'max_depth': 67.23131911500545,\n",
              " 'n_estimators': 650}"
            ]
          },
          "metadata": {
            "tags": []
          },
          "execution_count": 47
        }
      ]
    },
    {
      "cell_type": "code",
      "metadata": {
        "id": "IIIvBN-es4s3",
        "outputId": "399b310c-eacc-4287-cea7-276efd76b52f",
        "colab": {
          "base_uri": "https://localhost:8080/",
          "height": 153
        }
      },
      "source": [
        "rf=RandomForestClassifier(n_estimators=330,max_depth=30)\n",
        "rf.fit(X_train,y_train)"
      ],
      "execution_count": 48,
      "outputs": [
        {
          "output_type": "execute_result",
          "data": {
            "text/plain": [
              "RandomForestClassifier(bootstrap=True, ccp_alpha=0.0, class_weight=None,\n",
              "                       criterion='gini', max_depth=30, max_features='auto',\n",
              "                       max_leaf_nodes=None, max_samples=None,\n",
              "                       min_impurity_decrease=0.0, min_impurity_split=None,\n",
              "                       min_samples_leaf=1, min_samples_split=2,\n",
              "                       min_weight_fraction_leaf=0.0, n_estimators=330,\n",
              "                       n_jobs=None, oob_score=False, random_state=None,\n",
              "                       verbose=0, warm_start=False)"
            ]
          },
          "metadata": {
            "tags": []
          },
          "execution_count": 48
        }
      ]
    },
    {
      "cell_type": "code",
      "metadata": {
        "id": "S19rR5WLs4tP",
        "outputId": "e37a1bbf-615c-4e06-9f64-05c8120bb800",
        "colab": {
          "base_uri": "https://localhost:8080/",
          "height": 221
        }
      },
      "source": [
        "y_pred=rf.predict(X_test)\n",
        "print(confusion_matrix(y_test,y_pred))\n",
        "print(accuracy_score(y_test,y_pred))\n",
        "print(classification_report(y_test,y_pred))"
      ],
      "execution_count": 49,
      "outputs": [
        {
          "output_type": "stream",
          "text": [
            "[[94 13]\n",
            " [15 32]]\n",
            "0.8181818181818182\n",
            "              precision    recall  f1-score   support\n",
            "\n",
            "           0       0.86      0.88      0.87       107\n",
            "           1       0.71      0.68      0.70        47\n",
            "\n",
            "    accuracy                           0.82       154\n",
            "   macro avg       0.79      0.78      0.78       154\n",
            "weighted avg       0.82      0.82      0.82       154\n",
            "\n"
          ],
          "name": "stdout"
        }
      ]
    },
    {
      "cell_type": "code",
      "metadata": {
        "id": "yj7IOjZOs4tj"
      },
      "source": [
        ""
      ],
      "execution_count": null,
      "outputs": []
    }
  ]
}